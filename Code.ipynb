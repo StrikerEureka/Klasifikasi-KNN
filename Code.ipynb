{
 "cells": [
  {
   "cell_type": "markdown",
   "id": "f3ab4eba",
   "metadata": {
    "id": "f3ab4eba",
    "tags": []
   },
   "source": [
    "# Klasifikasi Migrain menggunakan Data for Migraine Classification dengan KNN"
   ]
  },
  {
   "cell_type": "markdown",
   "id": "9f25753b",
   "metadata": {
    "id": "9f25753b",
    "tags": []
   },
   "source": [
    "# 1) Mengumpulkan Data"
   ]
  },
  {
   "cell_type": "raw",
   "id": "5c8e9f7f",
   "metadata": {
    "id": "5c8e9f7f"
   },
   "source": [
    "Tentang Dataset\n",
    "===============================================================================================================================\n",
    "Dataset bernama Data for Migraine Classification yang didapatkan dari https://www.kaggle.com/datasets/weinoose/migraine-classification \n",
    "pada dataset itu terdapat :\n",
    "- 400 sampel dan 24 atribut.\n",
    "- tidak terdapat nilai yang hilang.\n",
    "- class label ada pada atribut terakhir.\n",
    "- class label adalah nominal."
   ]
  },
  {
   "cell_type": "markdown",
   "id": "a665cde3",
   "metadata": {
    "id": "a665cde3"
   },
   "source": [
    "# 2) Menelaah Data\n",
    "- Load Library yang diperlukan.\n",
    "- Load Dataset.\n",
    "- Memberi nama header atribut atau fitur (jika belum ada).\n",
    "- Menganalisa tipe dan relasi data (melihat tipe dataset, ukuran dataset, distribusi class, deskripsi dataset).\n",
    "- Memberikan laporan atau kesimpulan dari kegiatan menelaah data.\n",
    "    "
   ]
  },
  {
   "cell_type": "code",
   "execution_count": 527,
   "id": "84570df9",
   "metadata": {
    "id": "84570df9"
   },
   "outputs": [],
   "source": [
    "# Load Library yang diperlukan\n",
    "\n",
    "import pandas as pd\n",
    "import numpy as np\n",
    "from sklearn.model_selection import train_test_split\n",
    "from sklearn.metrics import accuracy_score\n",
    "from sklearn.metrics import precision_score\n",
    "from sklearn.metrics import recall_score\n",
    "from sklearn.metrics import confusion_matrix\n",
    "from sklearn.neighbors import KNeighborsClassifier\n",
    "import matplotlib.pyplot as plt\n",
    "%matplotlib inline\n",
    "import seaborn as sns\n",
    "import missingno\n",
    "\n",
    "from sklearn.preprocessing import StandardScaler\n",
    "from sklearn.decomposition import PCA"
   ]
  },
  {
   "cell_type": "code",
   "execution_count": 574,
   "id": "55cc11c1",
   "metadata": {
    "id": "55cc11c1"
   },
   "outputs": [
    {
     "data": {
      "text/html": [
       "<div>\n",
       "<style scoped>\n",
       "    .dataframe tbody tr th:only-of-type {\n",
       "        vertical-align: middle;\n",
       "    }\n",
       "\n",
       "    .dataframe tbody tr th {\n",
       "        vertical-align: top;\n",
       "    }\n",
       "\n",
       "    .dataframe thead th {\n",
       "        text-align: right;\n",
       "    }\n",
       "</style>\n",
       "<table border=\"1\" class=\"dataframe\">\n",
       "  <thead>\n",
       "    <tr style=\"text-align: right;\">\n",
       "      <th></th>\n",
       "      <th>Age</th>\n",
       "      <th>Duration</th>\n",
       "      <th>Frequency</th>\n",
       "      <th>Location</th>\n",
       "      <th>Character</th>\n",
       "      <th>Intensity</th>\n",
       "      <th>Nausea</th>\n",
       "      <th>Vomit</th>\n",
       "      <th>Phonophobia</th>\n",
       "      <th>Photophobia</th>\n",
       "      <th>...</th>\n",
       "      <th>Vertigo</th>\n",
       "      <th>Tinnitus</th>\n",
       "      <th>Hypoacusis</th>\n",
       "      <th>Diplopia</th>\n",
       "      <th>Defect</th>\n",
       "      <th>Ataxia</th>\n",
       "      <th>Conscience</th>\n",
       "      <th>Paresthesia</th>\n",
       "      <th>DPF</th>\n",
       "      <th>Type</th>\n",
       "    </tr>\n",
       "  </thead>\n",
       "  <tbody>\n",
       "    <tr>\n",
       "      <th>0</th>\n",
       "      <td>30</td>\n",
       "      <td>1</td>\n",
       "      <td>5</td>\n",
       "      <td>1</td>\n",
       "      <td>1</td>\n",
       "      <td>2</td>\n",
       "      <td>1</td>\n",
       "      <td>0</td>\n",
       "      <td>1</td>\n",
       "      <td>1</td>\n",
       "      <td>...</td>\n",
       "      <td>0</td>\n",
       "      <td>0</td>\n",
       "      <td>0</td>\n",
       "      <td>0</td>\n",
       "      <td>0</td>\n",
       "      <td>0</td>\n",
       "      <td>0</td>\n",
       "      <td>0</td>\n",
       "      <td>0</td>\n",
       "      <td>Typical aura with migraine</td>\n",
       "    </tr>\n",
       "    <tr>\n",
       "      <th>1</th>\n",
       "      <td>50</td>\n",
       "      <td>3</td>\n",
       "      <td>5</td>\n",
       "      <td>1</td>\n",
       "      <td>1</td>\n",
       "      <td>3</td>\n",
       "      <td>1</td>\n",
       "      <td>1</td>\n",
       "      <td>1</td>\n",
       "      <td>1</td>\n",
       "      <td>...</td>\n",
       "      <td>1</td>\n",
       "      <td>0</td>\n",
       "      <td>0</td>\n",
       "      <td>0</td>\n",
       "      <td>0</td>\n",
       "      <td>0</td>\n",
       "      <td>0</td>\n",
       "      <td>0</td>\n",
       "      <td>0</td>\n",
       "      <td>Typical aura with migraine</td>\n",
       "    </tr>\n",
       "    <tr>\n",
       "      <th>2</th>\n",
       "      <td>53</td>\n",
       "      <td>2</td>\n",
       "      <td>1</td>\n",
       "      <td>1</td>\n",
       "      <td>1</td>\n",
       "      <td>2</td>\n",
       "      <td>1</td>\n",
       "      <td>1</td>\n",
       "      <td>1</td>\n",
       "      <td>1</td>\n",
       "      <td>...</td>\n",
       "      <td>0</td>\n",
       "      <td>0</td>\n",
       "      <td>0</td>\n",
       "      <td>0</td>\n",
       "      <td>0</td>\n",
       "      <td>0</td>\n",
       "      <td>0</td>\n",
       "      <td>0</td>\n",
       "      <td>0</td>\n",
       "      <td>Typical aura with migraine</td>\n",
       "    </tr>\n",
       "    <tr>\n",
       "      <th>3</th>\n",
       "      <td>45</td>\n",
       "      <td>3</td>\n",
       "      <td>5</td>\n",
       "      <td>1</td>\n",
       "      <td>1</td>\n",
       "      <td>3</td>\n",
       "      <td>1</td>\n",
       "      <td>0</td>\n",
       "      <td>1</td>\n",
       "      <td>1</td>\n",
       "      <td>...</td>\n",
       "      <td>1</td>\n",
       "      <td>0</td>\n",
       "      <td>0</td>\n",
       "      <td>0</td>\n",
       "      <td>0</td>\n",
       "      <td>0</td>\n",
       "      <td>0</td>\n",
       "      <td>0</td>\n",
       "      <td>0</td>\n",
       "      <td>Typical aura with migraine</td>\n",
       "    </tr>\n",
       "    <tr>\n",
       "      <th>4</th>\n",
       "      <td>53</td>\n",
       "      <td>1</td>\n",
       "      <td>1</td>\n",
       "      <td>1</td>\n",
       "      <td>1</td>\n",
       "      <td>2</td>\n",
       "      <td>1</td>\n",
       "      <td>0</td>\n",
       "      <td>1</td>\n",
       "      <td>1</td>\n",
       "      <td>...</td>\n",
       "      <td>0</td>\n",
       "      <td>0</td>\n",
       "      <td>0</td>\n",
       "      <td>0</td>\n",
       "      <td>0</td>\n",
       "      <td>0</td>\n",
       "      <td>0</td>\n",
       "      <td>0</td>\n",
       "      <td>1</td>\n",
       "      <td>Typical aura with migraine</td>\n",
       "    </tr>\n",
       "  </tbody>\n",
       "</table>\n",
       "<p>5 rows × 24 columns</p>\n",
       "</div>"
      ],
      "text/plain": [
       "   Age  Duration  Frequency  Location  Character  Intensity  Nausea  Vomit  \\\n",
       "0   30         1          5         1          1          2       1      0   \n",
       "1   50         3          5         1          1          3       1      1   \n",
       "2   53         2          1         1          1          2       1      1   \n",
       "3   45         3          5         1          1          3       1      0   \n",
       "4   53         1          1         1          1          2       1      0   \n",
       "\n",
       "   Phonophobia  Photophobia  ...  Vertigo  Tinnitus  Hypoacusis  Diplopia  \\\n",
       "0            1            1  ...        0         0           0         0   \n",
       "1            1            1  ...        1         0           0         0   \n",
       "2            1            1  ...        0         0           0         0   \n",
       "3            1            1  ...        1         0           0         0   \n",
       "4            1            1  ...        0         0           0         0   \n",
       "\n",
       "   Defect  Ataxia  Conscience  Paresthesia  DPF                        Type  \n",
       "0       0       0           0            0    0  Typical aura with migraine  \n",
       "1       0       0           0            0    0  Typical aura with migraine  \n",
       "2       0       0           0            0    0  Typical aura with migraine  \n",
       "3       0       0           0            0    0  Typical aura with migraine  \n",
       "4       0       0           0            0    1  Typical aura with migraine  \n",
       "\n",
       "[5 rows x 24 columns]"
      ]
     },
     "execution_count": 574,
     "metadata": {},
     "output_type": "execute_result"
    }
   ],
   "source": [
    "# Load Dataset\n",
    "df = pd.read_csv(\"data.csv\")\n",
    "df.head()"
   ]
  },
  {
   "cell_type": "code",
   "execution_count": 575,
   "id": "cad4bb79",
   "metadata": {
    "id": "cad4bb79"
   },
   "outputs": [
    {
     "data": {
      "text/plain": [
       "pandas.core.frame.DataFrame"
      ]
     },
     "execution_count": 575,
     "metadata": {},
     "output_type": "execute_result"
    }
   ],
   "source": [
    "# Menganalisa tipe dan relasi data\n",
    "# Melihat tipe dataset\n",
    "type(df)"
   ]
  },
  {
   "cell_type": "code",
   "execution_count": 576,
   "id": "4e190fb6",
   "metadata": {
    "id": "4e190fb6"
   },
   "outputs": [
    {
     "name": "stdout",
     "output_type": "stream",
     "text": [
      "(400, 24)\n"
     ]
    }
   ],
   "source": [
    "# Melihat ukuran dataset\n",
    "print(df.shape)"
   ]
  },
  {
   "cell_type": "code",
   "execution_count": 577,
   "id": "9dfa501c",
   "metadata": {
    "id": "9dfa501c"
   },
   "outputs": [
    {
     "name": "stdout",
     "output_type": "stream",
     "text": [
      "<class 'pandas.core.frame.DataFrame'>\n",
      "RangeIndex: 400 entries, 0 to 399\n",
      "Data columns (total 24 columns):\n",
      " #   Column       Non-Null Count  Dtype \n",
      "---  ------       --------------  ----- \n",
      " 0   Age          400 non-null    int64 \n",
      " 1   Duration     400 non-null    int64 \n",
      " 2   Frequency    400 non-null    int64 \n",
      " 3   Location     400 non-null    int64 \n",
      " 4   Character    400 non-null    int64 \n",
      " 5   Intensity    400 non-null    int64 \n",
      " 6   Nausea       400 non-null    int64 \n",
      " 7   Vomit        400 non-null    int64 \n",
      " 8   Phonophobia  400 non-null    int64 \n",
      " 9   Photophobia  400 non-null    int64 \n",
      " 10  Visual       400 non-null    int64 \n",
      " 11  Sensory      400 non-null    int64 \n",
      " 12  Dysphasia    400 non-null    int64 \n",
      " 13  Dysarthria   400 non-null    int64 \n",
      " 14  Vertigo      400 non-null    int64 \n",
      " 15  Tinnitus     400 non-null    int64 \n",
      " 16  Hypoacusis   400 non-null    int64 \n",
      " 17  Diplopia     400 non-null    int64 \n",
      " 18  Defect       400 non-null    int64 \n",
      " 19  Ataxia       400 non-null    int64 \n",
      " 20  Conscience   400 non-null    int64 \n",
      " 21  Paresthesia  400 non-null    int64 \n",
      " 22  DPF          400 non-null    int64 \n",
      " 23  Type         400 non-null    object\n",
      "dtypes: int64(23), object(1)\n",
      "memory usage: 75.1+ KB\n"
     ]
    }
   ],
   "source": [
    "# Melihat informasi tipe data semua kolom\n",
    "df.info()"
   ]
  },
  {
   "cell_type": "code",
   "execution_count": 579,
   "id": "77e60224",
   "metadata": {
    "id": "77e60224"
   },
   "outputs": [
    {
     "data": {
      "text/plain": [
       "array(['Typical aura with migraine', 'Migraine without aura',\n",
       "       'Basilar-type aura', 'Sporadic hemiplegic migraine',\n",
       "       'Familial hemiplegic migraine', 'Other',\n",
       "       'Typical aura without migraine'], dtype=object)"
      ]
     },
     "execution_count": 579,
     "metadata": {},
     "output_type": "execute_result"
    }
   ],
   "source": [
    "# Melihat distribusi Class label (apa saja jenisnya)\n",
    "df['Type'].unique()"
   ]
  },
  {
   "cell_type": "code",
   "execution_count": 580,
   "id": "8e2d1a29",
   "metadata": {
    "id": "8e2d1a29"
   },
   "outputs": [
    {
     "data": {
      "text/plain": [
       "Typical aura with migraine       247\n",
       "Migraine without aura             60\n",
       "Familial hemiplegic migraine      24\n",
       "Typical aura without migraine     20\n",
       "Basilar-type aura                 18\n",
       "Other                             17\n",
       "Sporadic hemiplegic migraine      14\n",
       "Name: Type, dtype: int64"
      ]
     },
     "execution_count": 580,
     "metadata": {},
     "output_type": "execute_result"
    }
   ],
   "source": [
    "# Melihat distribusi Class label (jumlahnya tiap Class)\n",
    "df['Type'].value_counts()"
   ]
  },
  {
   "cell_type": "code",
   "execution_count": 581,
   "id": "4a7e5921",
   "metadata": {
    "id": "4a7e5921"
   },
   "outputs": [
    {
     "data": {
      "text/plain": [
       "Text(0.5, 1, 'Distribusi Penderita Migraine')"
      ]
     },
     "execution_count": 581,
     "metadata": {},
     "output_type": "execute_result"
    },
    {
     "data": {
      "image/png": "[encoded data removed]",
      "text/plain": [
       "<Figure size 1440x432 with 1 Axes>"
      ]
     },
     "metadata": {},
     "output_type": "display_data"
    }
   ],
   "source": [
    "# Melihat distribusi class (visualisasi diagram batang dengan library seaborn)\n",
    "\n",
    "sns.set(font_scale=1)\n",
    "df['Type'].value_counts().plot(kind='bar', figsize=(20,6), rot=0)\n",
    "plt.xlabel(\"Tipe Migraine\", labelpad=14)\n",
    "plt.ylabel(\"Jumlah\", labelpad=14)\n",
    "plt.title(\"Distribusi Penderita Migraine\", y=1)"
   ]
  },
  {
   "cell_type": "code",
   "execution_count": 582,
   "id": "dad45b29",
   "metadata": {
    "id": "dad45b29"
   },
   "outputs": [
    {
     "data": {
      "text/html": [
       "<div>\n",
       "<style scoped>\n",
       "    .dataframe tbody tr th:only-of-type {\n",
       "        vertical-align: middle;\n",
       "    }\n",
       "\n",
       "    .dataframe tbody tr th {\n",
       "        vertical-align: top;\n",
       "    }\n",
       "\n",
       "    .dataframe thead th {\n",
       "        text-align: right;\n",
       "    }\n",
       "</style>\n",
       "<table border=\"1\" class=\"dataframe\">\n",
       "  <thead>\n",
       "    <tr style=\"text-align: right;\">\n",
       "      <th></th>\n",
       "      <th>Age</th>\n",
       "      <th>Duration</th>\n",
       "      <th>Frequency</th>\n",
       "      <th>Location</th>\n",
       "      <th>Character</th>\n",
       "      <th>Intensity</th>\n",
       "      <th>Nausea</th>\n",
       "      <th>Vomit</th>\n",
       "      <th>Phonophobia</th>\n",
       "      <th>Photophobia</th>\n",
       "      <th>...</th>\n",
       "      <th>Dysarthria</th>\n",
       "      <th>Vertigo</th>\n",
       "      <th>Tinnitus</th>\n",
       "      <th>Hypoacusis</th>\n",
       "      <th>Diplopia</th>\n",
       "      <th>Defect</th>\n",
       "      <th>Ataxia</th>\n",
       "      <th>Conscience</th>\n",
       "      <th>Paresthesia</th>\n",
       "      <th>DPF</th>\n",
       "    </tr>\n",
       "  </thead>\n",
       "  <tbody>\n",
       "    <tr>\n",
       "      <th>count</th>\n",
       "      <td>400.000000</td>\n",
       "      <td>400.000000</td>\n",
       "      <td>400.000000</td>\n",
       "      <td>400.000000</td>\n",
       "      <td>400.000000</td>\n",
       "      <td>400.00000</td>\n",
       "      <td>400.000000</td>\n",
       "      <td>400.000000</td>\n",
       "      <td>400.000000</td>\n",
       "      <td>400.000000</td>\n",
       "      <td>...</td>\n",
       "      <td>400.0000</td>\n",
       "      <td>400.000000</td>\n",
       "      <td>400.000000</td>\n",
       "      <td>400.000000</td>\n",
       "      <td>400.000000</td>\n",
       "      <td>400.000000</td>\n",
       "      <td>400.0</td>\n",
       "      <td>400.000000</td>\n",
       "      <td>400.000000</td>\n",
       "      <td>400.000000</td>\n",
       "    </tr>\n",
       "    <tr>\n",
       "      <th>mean</th>\n",
       "      <td>31.705000</td>\n",
       "      <td>1.610000</td>\n",
       "      <td>2.365000</td>\n",
       "      <td>0.972500</td>\n",
       "      <td>0.977500</td>\n",
       "      <td>2.47000</td>\n",
       "      <td>0.987500</td>\n",
       "      <td>0.322500</td>\n",
       "      <td>0.977500</td>\n",
       "      <td>0.980000</td>\n",
       "      <td>...</td>\n",
       "      <td>0.0025</td>\n",
       "      <td>0.125000</td>\n",
       "      <td>0.060000</td>\n",
       "      <td>0.015000</td>\n",
       "      <td>0.005000</td>\n",
       "      <td>0.015000</td>\n",
       "      <td>0.0</td>\n",
       "      <td>0.017500</td>\n",
       "      <td>0.007500</td>\n",
       "      <td>0.410000</td>\n",
       "    </tr>\n",
       "    <tr>\n",
       "      <th>std</th>\n",
       "      <td>12.139043</td>\n",
       "      <td>0.770964</td>\n",
       "      <td>1.675947</td>\n",
       "      <td>0.268186</td>\n",
       "      <td>0.277825</td>\n",
       "      <td>0.76849</td>\n",
       "      <td>0.111242</td>\n",
       "      <td>0.468019</td>\n",
       "      <td>0.148489</td>\n",
       "      <td>0.140175</td>\n",
       "      <td>...</td>\n",
       "      <td>0.0500</td>\n",
       "      <td>0.331133</td>\n",
       "      <td>0.237784</td>\n",
       "      <td>0.121705</td>\n",
       "      <td>0.070622</td>\n",
       "      <td>0.121705</td>\n",
       "      <td>0.0</td>\n",
       "      <td>0.131289</td>\n",
       "      <td>0.086385</td>\n",
       "      <td>0.492449</td>\n",
       "    </tr>\n",
       "    <tr>\n",
       "      <th>min</th>\n",
       "      <td>15.000000</td>\n",
       "      <td>1.000000</td>\n",
       "      <td>1.000000</td>\n",
       "      <td>0.000000</td>\n",
       "      <td>0.000000</td>\n",
       "      <td>0.00000</td>\n",
       "      <td>0.000000</td>\n",
       "      <td>0.000000</td>\n",
       "      <td>0.000000</td>\n",
       "      <td>0.000000</td>\n",
       "      <td>...</td>\n",
       "      <td>0.0000</td>\n",
       "      <td>0.000000</td>\n",
       "      <td>0.000000</td>\n",
       "      <td>0.000000</td>\n",
       "      <td>0.000000</td>\n",
       "      <td>0.000000</td>\n",
       "      <td>0.0</td>\n",
       "      <td>0.000000</td>\n",
       "      <td>0.000000</td>\n",
       "      <td>0.000000</td>\n",
       "    </tr>\n",
       "    <tr>\n",
       "      <th>25%</th>\n",
       "      <td>22.000000</td>\n",
       "      <td>1.000000</td>\n",
       "      <td>1.000000</td>\n",
       "      <td>1.000000</td>\n",
       "      <td>1.000000</td>\n",
       "      <td>2.00000</td>\n",
       "      <td>1.000000</td>\n",
       "      <td>0.000000</td>\n",
       "      <td>1.000000</td>\n",
       "      <td>1.000000</td>\n",
       "      <td>...</td>\n",
       "      <td>0.0000</td>\n",
       "      <td>0.000000</td>\n",
       "      <td>0.000000</td>\n",
       "      <td>0.000000</td>\n",
       "      <td>0.000000</td>\n",
       "      <td>0.000000</td>\n",
       "      <td>0.0</td>\n",
       "      <td>0.000000</td>\n",
       "      <td>0.000000</td>\n",
       "      <td>0.000000</td>\n",
       "    </tr>\n",
       "    <tr>\n",
       "      <th>50%</th>\n",
       "      <td>28.000000</td>\n",
       "      <td>1.000000</td>\n",
       "      <td>2.000000</td>\n",
       "      <td>1.000000</td>\n",
       "      <td>1.000000</td>\n",
       "      <td>3.00000</td>\n",
       "      <td>1.000000</td>\n",
       "      <td>0.000000</td>\n",
       "      <td>1.000000</td>\n",
       "      <td>1.000000</td>\n",
       "      <td>...</td>\n",
       "      <td>0.0000</td>\n",
       "      <td>0.000000</td>\n",
       "      <td>0.000000</td>\n",
       "      <td>0.000000</td>\n",
       "      <td>0.000000</td>\n",
       "      <td>0.000000</td>\n",
       "      <td>0.0</td>\n",
       "      <td>0.000000</td>\n",
       "      <td>0.000000</td>\n",
       "      <td>0.000000</td>\n",
       "    </tr>\n",
       "    <tr>\n",
       "      <th>75%</th>\n",
       "      <td>40.000000</td>\n",
       "      <td>2.000000</td>\n",
       "      <td>4.000000</td>\n",
       "      <td>1.000000</td>\n",
       "      <td>1.000000</td>\n",
       "      <td>3.00000</td>\n",
       "      <td>1.000000</td>\n",
       "      <td>1.000000</td>\n",
       "      <td>1.000000</td>\n",
       "      <td>1.000000</td>\n",
       "      <td>...</td>\n",
       "      <td>0.0000</td>\n",
       "      <td>0.000000</td>\n",
       "      <td>0.000000</td>\n",
       "      <td>0.000000</td>\n",
       "      <td>0.000000</td>\n",
       "      <td>0.000000</td>\n",
       "      <td>0.0</td>\n",
       "      <td>0.000000</td>\n",
       "      <td>0.000000</td>\n",
       "      <td>1.000000</td>\n",
       "    </tr>\n",
       "    <tr>\n",
       "      <th>max</th>\n",
       "      <td>77.000000</td>\n",
       "      <td>3.000000</td>\n",
       "      <td>8.000000</td>\n",
       "      <td>2.000000</td>\n",
       "      <td>2.000000</td>\n",
       "      <td>3.00000</td>\n",
       "      <td>1.000000</td>\n",
       "      <td>1.000000</td>\n",
       "      <td>1.000000</td>\n",
       "      <td>1.000000</td>\n",
       "      <td>...</td>\n",
       "      <td>1.0000</td>\n",
       "      <td>1.000000</td>\n",
       "      <td>1.000000</td>\n",
       "      <td>1.000000</td>\n",
       "      <td>1.000000</td>\n",
       "      <td>1.000000</td>\n",
       "      <td>0.0</td>\n",
       "      <td>1.000000</td>\n",
       "      <td>1.000000</td>\n",
       "      <td>1.000000</td>\n",
       "    </tr>\n",
       "  </tbody>\n",
       "</table>\n",
       "<p>8 rows × 23 columns</p>\n",
       "</div>"
      ],
      "text/plain": [
       "              Age    Duration   Frequency    Location   Character  Intensity  \\\n",
       "count  400.000000  400.000000  400.000000  400.000000  400.000000  400.00000   \n",
       "mean    31.705000    1.610000    2.365000    0.972500    0.977500    2.47000   \n",
       "std     12.139043    0.770964    1.675947    0.268186    0.277825    0.76849   \n",
       "min     15.000000    1.000000    1.000000    0.000000    0.000000    0.00000   \n",
       "25%     22.000000    1.000000    1.000000    1.000000    1.000000    2.00000   \n",
       "50%     28.000000    1.000000    2.000000    1.000000    1.000000    3.00000   \n",
       "75%     40.000000    2.000000    4.000000    1.000000    1.000000    3.00000   \n",
       "max     77.000000    3.000000    8.000000    2.000000    2.000000    3.00000   \n",
       "\n",
       "           Nausea       Vomit  Phonophobia  Photophobia  ...  Dysarthria  \\\n",
       "count  400.000000  400.000000   400.000000   400.000000  ...    400.0000   \n",
       "mean     0.987500    0.322500     0.977500     0.980000  ...      0.0025   \n",
       "std      0.111242    0.468019     0.148489     0.140175  ...      0.0500   \n",
       "min      0.000000    0.000000     0.000000     0.000000  ...      0.0000   \n",
       "25%      1.000000    0.000000     1.000000     1.000000  ...      0.0000   \n",
       "50%      1.000000    0.000000     1.000000     1.000000  ...      0.0000   \n",
       "75%      1.000000    1.000000     1.000000     1.000000  ...      0.0000   \n",
       "max      1.000000    1.000000     1.000000     1.000000  ...      1.0000   \n",
       "\n",
       "          Vertigo    Tinnitus  Hypoacusis    Diplopia      Defect  Ataxia  \\\n",
       "count  400.000000  400.000000  400.000000  400.000000  400.000000   400.0   \n",
       "mean     0.125000    0.060000    0.015000    0.005000    0.015000     0.0   \n",
       "std      0.331133    0.237784    0.121705    0.070622    0.121705     0.0   \n",
       "min      0.000000    0.000000    0.000000    0.000000    0.000000     0.0   \n",
       "25%      0.000000    0.000000    0.000000    0.000000    0.000000     0.0   \n",
       "50%      0.000000    0.000000    0.000000    0.000000    0.000000     0.0   \n",
       "75%      0.000000    0.000000    0.000000    0.000000    0.000000     0.0   \n",
       "max      1.000000    1.000000    1.000000    1.000000    1.000000     0.0   \n",
       "\n",
       "       Conscience  Paresthesia         DPF  \n",
       "count  400.000000   400.000000  400.000000  \n",
       "mean     0.017500     0.007500    0.410000  \n",
       "std      0.131289     0.086385    0.492449  \n",
       "min      0.000000     0.000000    0.000000  \n",
       "25%      0.000000     0.000000    0.000000  \n",
       "50%      0.000000     0.000000    0.000000  \n",
       "75%      0.000000     0.000000    1.000000  \n",
       "max      1.000000     1.000000    1.000000  \n",
       "\n",
       "[8 rows x 23 columns]"
      ]
     },
     "execution_count": 582,
     "metadata": {},
     "output_type": "execute_result"
    }
   ],
   "source": [
    "# Melihat deskripsi dataset\n",
    "df.describe()"
   ]
  },
  {
   "cell_type": "markdown",
   "id": "8f3d1491",
   "metadata": {
    "id": "8f3d1491"
   },
   "source": [
    "Laporan atau Kesimpulan\n",
    "================================================================\n",
    "- Jumlah fitur 24 dengan jumlah record data 400.\n",
    "- Jumlah distribusi class Typical aura with migraine -> 247, Migraine without aura -> 60, Familial hemiplegic migraine -> 24, Typical aura without migraine -> 20, Basilar-type aura -> 18, Sporadic hemiplegic migraine -> 14, dan Other Migraine -> 17."
   ]
  },
  {
   "cell_type": "markdown",
   "id": "7cb935df",
   "metadata": {
    "id": "7cb935df"
   },
   "source": [
    "# 3) Memvalidasi Data\n",
    "- Merubah fitur yang mempunyai missing value menjadi ber-nilai NaN\n",
    "\n"
   ]
  },
  {
   "cell_type": "markdown",
   "id": "bfdde429",
   "metadata": {
    "id": "bfdde429"
   },
   "source": [
    "# 4) Menentukan Objek Data\n",
    "- Tidak masuk dalam soal"
   ]
  },
  {
   "cell_type": "markdown",
   "id": "483dea84",
   "metadata": {
    "id": "483dea84"
   },
   "source": [
    "# 5) Membersihkan Data\n",
    "- Perbaiki nilai yang hilang.\n",
    "- Hapus data duplikat.\n",
    "- Cek fitur yang bernilai konstant."
   ]
  },
  {
   "cell_type": "code",
   "execution_count": 583,
   "id": "23bcf789",
   "metadata": {
    "id": "23bcf789"
   },
   "outputs": [
    {
     "data": {
      "text/plain": [
       "(400, 24)"
      ]
     },
     "execution_count": 583,
     "metadata": {},
     "output_type": "execute_result"
    }
   ],
   "source": [
    "# Menghapus Data Duplikat\n",
    "# Melihat ukuran baris dan kolom dataframe\n",
    "df.shape"
   ]
  },
  {
   "cell_type": "code",
   "execution_count": 584,
   "id": "e3c3e16b",
   "metadata": {
    "id": "e3c3e16b"
   },
   "outputs": [
    {
     "data": {
      "text/plain": [
       "(394, 24)"
      ]
     },
     "execution_count": 584,
     "metadata": {},
     "output_type": "execute_result"
    }
   ],
   "source": [
    "# Menghapus Data Duplikat dan melihat kembali ukuran baris & kolom dataframe\n",
    "df = df.drop_duplicates()\n",
    "df.shape"
   ]
  },
  {
   "cell_type": "markdown",
   "id": "ce1d1ad1",
   "metadata": {
    "id": "ce1d1ad1"
   },
   "source": [
    "Terdapat 6 data yang sama dan sudah dilakukan pembersihan."
   ]
  },
  {
   "cell_type": "code",
   "execution_count": 585,
   "id": "fcb3268e",
   "metadata": {
    "id": "fcb3268e"
   },
   "outputs": [
    {
     "data": {
      "text/plain": [
       "(394, 23)"
      ]
     },
     "execution_count": 585,
     "metadata": {},
     "output_type": "execute_result"
    }
   ],
   "source": [
    "# Menghapus fitur yang bernilai konstant\n",
    "df = df.loc[:, df.apply(pd.Series.nunique) !=1]\n",
    "df.shape"
   ]
  },
  {
   "cell_type": "markdown",
   "id": "35a9440e",
   "metadata": {
    "id": "35a9440e"
   },
   "source": [
    "Terdapat 1 fitur yang bernilai konstant dan sudah dilakukan pembersihan."
   ]
  },
  {
   "cell_type": "markdown",
   "id": "5fc390a4",
   "metadata": {
    "id": "5fc390a4"
   },
   "source": [
    "# 6) Mengkonstruksi Data\n",
    "- Representasi fitur dan merubah tipenya.\n",
    "- Membagi data menjadi training dan testing.\n",
    "- Membandingkan Data Original, Data Normalisasi, Data Original PCA, Data Normalisasi PCA\n"
   ]
  },
  {
   "cell_type": "code",
   "execution_count": 586,
   "id": "e5cb1abc",
   "metadata": {
    "id": "e5cb1abc"
   },
   "outputs": [
    {
     "name": "stdout",
     "output_type": "stream",
     "text": [
      "<class 'pandas.core.frame.DataFrame'>\n",
      "Int64Index: 394 entries, 0 to 399\n",
      "Data columns (total 23 columns):\n",
      " #   Column       Non-Null Count  Dtype \n",
      "---  ------       --------------  ----- \n",
      " 0   Age          394 non-null    int64 \n",
      " 1   Duration     394 non-null    int64 \n",
      " 2   Frequency    394 non-null    int64 \n",
      " 3   Location     394 non-null    int64 \n",
      " 4   Character    394 non-null    int64 \n",
      " 5   Intensity    394 non-null    int64 \n",
      " 6   Nausea       394 non-null    int64 \n",
      " 7   Vomit        394 non-null    int64 \n",
      " 8   Phonophobia  394 non-null    int64 \n",
      " 9   Photophobia  394 non-null    int64 \n",
      " 10  Visual       394 non-null    int64 \n",
      " 11  Sensory      394 non-null    int64 \n",
      " 12  Dysphasia    394 non-null    int64 \n",
      " 13  Dysarthria   394 non-null    int64 \n",
      " 14  Vertigo      394 non-null    int64 \n",
      " 15  Tinnitus     394 non-null    int64 \n",
      " 16  Hypoacusis   394 non-null    int64 \n",
      " 17  Diplopia     394 non-null    int64 \n",
      " 18  Defect       394 non-null    int64 \n",
      " 19  Conscience   394 non-null    int64 \n",
      " 20  Paresthesia  394 non-null    int64 \n",
      " 21  DPF          394 non-null    int64 \n",
      " 22  Type         394 non-null    object\n",
      "dtypes: int64(22), object(1)\n",
      "memory usage: 73.9+ KB\n"
     ]
    }
   ],
   "source": [
    "# Mengecek Representasi Fitur\n",
    "df.info()"
   ]
  },
  {
   "cell_type": "code",
   "execution_count": 587,
   "id": "f1c14ed2",
   "metadata": {
    "id": "f1c14ed2"
   },
   "outputs": [
    {
     "data": {
      "text/html": [
       "<div>\n",
       "<style scoped>\n",
       "    .dataframe tbody tr th:only-of-type {\n",
       "        vertical-align: middle;\n",
       "    }\n",
       "\n",
       "    .dataframe tbody tr th {\n",
       "        vertical-align: top;\n",
       "    }\n",
       "\n",
       "    .dataframe thead th {\n",
       "        text-align: right;\n",
       "    }\n",
       "</style>\n",
       "<table border=\"1\" class=\"dataframe\">\n",
       "  <thead>\n",
       "    <tr style=\"text-align: right;\">\n",
       "      <th></th>\n",
       "      <th>Age</th>\n",
       "      <th>Duration</th>\n",
       "      <th>Frequency</th>\n",
       "      <th>Location</th>\n",
       "      <th>Character</th>\n",
       "      <th>Intensity</th>\n",
       "      <th>Nausea</th>\n",
       "      <th>Vomit</th>\n",
       "      <th>Phonophobia</th>\n",
       "      <th>Photophobia</th>\n",
       "      <th>...</th>\n",
       "      <th>Dysphasia</th>\n",
       "      <th>Dysarthria</th>\n",
       "      <th>Vertigo</th>\n",
       "      <th>Tinnitus</th>\n",
       "      <th>Hypoacusis</th>\n",
       "      <th>Diplopia</th>\n",
       "      <th>Defect</th>\n",
       "      <th>Conscience</th>\n",
       "      <th>Paresthesia</th>\n",
       "      <th>DPF</th>\n",
       "    </tr>\n",
       "  </thead>\n",
       "  <tbody>\n",
       "    <tr>\n",
       "      <th>0</th>\n",
       "      <td>30</td>\n",
       "      <td>1</td>\n",
       "      <td>5</td>\n",
       "      <td>1</td>\n",
       "      <td>1</td>\n",
       "      <td>2</td>\n",
       "      <td>1</td>\n",
       "      <td>0</td>\n",
       "      <td>1</td>\n",
       "      <td>1</td>\n",
       "      <td>...</td>\n",
       "      <td>0</td>\n",
       "      <td>0</td>\n",
       "      <td>0</td>\n",
       "      <td>0</td>\n",
       "      <td>0</td>\n",
       "      <td>0</td>\n",
       "      <td>0</td>\n",
       "      <td>0</td>\n",
       "      <td>0</td>\n",
       "      <td>0</td>\n",
       "    </tr>\n",
       "    <tr>\n",
       "      <th>1</th>\n",
       "      <td>50</td>\n",
       "      <td>3</td>\n",
       "      <td>5</td>\n",
       "      <td>1</td>\n",
       "      <td>1</td>\n",
       "      <td>3</td>\n",
       "      <td>1</td>\n",
       "      <td>1</td>\n",
       "      <td>1</td>\n",
       "      <td>1</td>\n",
       "      <td>...</td>\n",
       "      <td>0</td>\n",
       "      <td>0</td>\n",
       "      <td>1</td>\n",
       "      <td>0</td>\n",
       "      <td>0</td>\n",
       "      <td>0</td>\n",
       "      <td>0</td>\n",
       "      <td>0</td>\n",
       "      <td>0</td>\n",
       "      <td>0</td>\n",
       "    </tr>\n",
       "    <tr>\n",
       "      <th>2</th>\n",
       "      <td>53</td>\n",
       "      <td>2</td>\n",
       "      <td>1</td>\n",
       "      <td>1</td>\n",
       "      <td>1</td>\n",
       "      <td>2</td>\n",
       "      <td>1</td>\n",
       "      <td>1</td>\n",
       "      <td>1</td>\n",
       "      <td>1</td>\n",
       "      <td>...</td>\n",
       "      <td>0</td>\n",
       "      <td>0</td>\n",
       "      <td>0</td>\n",
       "      <td>0</td>\n",
       "      <td>0</td>\n",
       "      <td>0</td>\n",
       "      <td>0</td>\n",
       "      <td>0</td>\n",
       "      <td>0</td>\n",
       "      <td>0</td>\n",
       "    </tr>\n",
       "    <tr>\n",
       "      <th>3</th>\n",
       "      <td>45</td>\n",
       "      <td>3</td>\n",
       "      <td>5</td>\n",
       "      <td>1</td>\n",
       "      <td>1</td>\n",
       "      <td>3</td>\n",
       "      <td>1</td>\n",
       "      <td>0</td>\n",
       "      <td>1</td>\n",
       "      <td>1</td>\n",
       "      <td>...</td>\n",
       "      <td>0</td>\n",
       "      <td>0</td>\n",
       "      <td>1</td>\n",
       "      <td>0</td>\n",
       "      <td>0</td>\n",
       "      <td>0</td>\n",
       "      <td>0</td>\n",
       "      <td>0</td>\n",
       "      <td>0</td>\n",
       "      <td>0</td>\n",
       "    </tr>\n",
       "    <tr>\n",
       "      <th>4</th>\n",
       "      <td>53</td>\n",
       "      <td>1</td>\n",
       "      <td>1</td>\n",
       "      <td>1</td>\n",
       "      <td>1</td>\n",
       "      <td>2</td>\n",
       "      <td>1</td>\n",
       "      <td>0</td>\n",
       "      <td>1</td>\n",
       "      <td>1</td>\n",
       "      <td>...</td>\n",
       "      <td>0</td>\n",
       "      <td>0</td>\n",
       "      <td>0</td>\n",
       "      <td>0</td>\n",
       "      <td>0</td>\n",
       "      <td>0</td>\n",
       "      <td>0</td>\n",
       "      <td>0</td>\n",
       "      <td>0</td>\n",
       "      <td>1</td>\n",
       "    </tr>\n",
       "  </tbody>\n",
       "</table>\n",
       "<p>5 rows × 22 columns</p>\n",
       "</div>"
      ],
      "text/plain": [
       "   Age  Duration  Frequency  Location  Character  Intensity  Nausea  Vomit  \\\n",
       "0   30         1          5         1          1          2       1      0   \n",
       "1   50         3          5         1          1          3       1      1   \n",
       "2   53         2          1         1          1          2       1      1   \n",
       "3   45         3          5         1          1          3       1      0   \n",
       "4   53         1          1         1          1          2       1      0   \n",
       "\n",
       "   Phonophobia  Photophobia  ...  Dysphasia  Dysarthria  Vertigo  Tinnitus  \\\n",
       "0            1            1  ...          0           0        0         0   \n",
       "1            1            1  ...          0           0        1         0   \n",
       "2            1            1  ...          0           0        0         0   \n",
       "3            1            1  ...          0           0        1         0   \n",
       "4            1            1  ...          0           0        0         0   \n",
       "\n",
       "   Hypoacusis  Diplopia  Defect  Conscience  Paresthesia  DPF  \n",
       "0           0         0       0           0            0    0  \n",
       "1           0         0       0           0            0    0  \n",
       "2           0         0       0           0            0    0  \n",
       "3           0         0       0           0            0    0  \n",
       "4           0         0       0           0            0    1  \n",
       "\n",
       "[5 rows x 22 columns]"
      ]
     },
     "execution_count": 587,
     "metadata": {},
     "output_type": "execute_result"
    }
   ],
   "source": [
    "# Membagi Training dan Testing\n",
    "X = df.iloc[:,0:22]\n",
    "y = df['Type']\n",
    "\n",
    "# Menampilkan X\n",
    "X.head()"
   ]
  },
  {
   "cell_type": "code",
   "execution_count": 588,
   "id": "450edd90",
   "metadata": {
    "id": "450edd90"
   },
   "outputs": [
    {
     "data": {
      "text/plain": [
       "0    Typical aura with migraine\n",
       "1    Typical aura with migraine\n",
       "2    Typical aura with migraine\n",
       "3    Typical aura with migraine\n",
       "4    Typical aura with migraine\n",
       "Name: Type, dtype: object"
      ]
     },
     "execution_count": 588,
     "metadata": {},
     "output_type": "execute_result"
    }
   ],
   "source": [
    "# Menampilkan y\n",
    "y.head()"
   ]
  },
  {
   "cell_type": "markdown",
   "id": "fe71f40d",
   "metadata": {
    "id": "fe71f40d"
   },
   "source": [
    "# Data Original"
   ]
  },
  {
   "cell_type": "code",
   "execution_count": 589,
   "id": "f4845ec8",
   "metadata": {
    "id": "f4845ec8"
   },
   "outputs": [],
   "source": [
    "# Membagi data menjadi training = 70% dan testing = 30%\n",
    "X_train, X_test, Y_train, Y_test = train_test_split(X,y, test_size=0.3, random_state=2022)"
   ]
  },
  {
   "cell_type": "code",
   "execution_count": 590,
   "id": "345845bf",
   "metadata": {
    "id": "345845bf"
   },
   "outputs": [
    {
     "data": {
      "text/html": [
       "<div>\n",
       "<style scoped>\n",
       "    .dataframe tbody tr th:only-of-type {\n",
       "        vertical-align: middle;\n",
       "    }\n",
       "\n",
       "    .dataframe tbody tr th {\n",
       "        vertical-align: top;\n",
       "    }\n",
       "\n",
       "    .dataframe thead th {\n",
       "        text-align: right;\n",
       "    }\n",
       "</style>\n",
       "<table border=\"1\" class=\"dataframe\">\n",
       "  <thead>\n",
       "    <tr style=\"text-align: right;\">\n",
       "      <th></th>\n",
       "      <th>Age</th>\n",
       "      <th>Duration</th>\n",
       "      <th>Frequency</th>\n",
       "      <th>Location</th>\n",
       "      <th>Character</th>\n",
       "      <th>Intensity</th>\n",
       "      <th>Nausea</th>\n",
       "      <th>Vomit</th>\n",
       "      <th>Phonophobia</th>\n",
       "      <th>Photophobia</th>\n",
       "      <th>...</th>\n",
       "      <th>Dysphasia</th>\n",
       "      <th>Dysarthria</th>\n",
       "      <th>Vertigo</th>\n",
       "      <th>Tinnitus</th>\n",
       "      <th>Hypoacusis</th>\n",
       "      <th>Diplopia</th>\n",
       "      <th>Defect</th>\n",
       "      <th>Conscience</th>\n",
       "      <th>Paresthesia</th>\n",
       "      <th>DPF</th>\n",
       "    </tr>\n",
       "  </thead>\n",
       "  <tbody>\n",
       "    <tr>\n",
       "      <th>275</th>\n",
       "      <td>22</td>\n",
       "      <td>1</td>\n",
       "      <td>2</td>\n",
       "      <td>1</td>\n",
       "      <td>1</td>\n",
       "      <td>3</td>\n",
       "      <td>1</td>\n",
       "      <td>0</td>\n",
       "      <td>1</td>\n",
       "      <td>1</td>\n",
       "      <td>...</td>\n",
       "      <td>0</td>\n",
       "      <td>0</td>\n",
       "      <td>0</td>\n",
       "      <td>0</td>\n",
       "      <td>0</td>\n",
       "      <td>0</td>\n",
       "      <td>0</td>\n",
       "      <td>0</td>\n",
       "      <td>0</td>\n",
       "      <td>0</td>\n",
       "    </tr>\n",
       "    <tr>\n",
       "      <th>80</th>\n",
       "      <td>21</td>\n",
       "      <td>2</td>\n",
       "      <td>1</td>\n",
       "      <td>1</td>\n",
       "      <td>1</td>\n",
       "      <td>2</td>\n",
       "      <td>1</td>\n",
       "      <td>1</td>\n",
       "      <td>1</td>\n",
       "      <td>1</td>\n",
       "      <td>...</td>\n",
       "      <td>0</td>\n",
       "      <td>0</td>\n",
       "      <td>0</td>\n",
       "      <td>0</td>\n",
       "      <td>0</td>\n",
       "      <td>0</td>\n",
       "      <td>0</td>\n",
       "      <td>0</td>\n",
       "      <td>0</td>\n",
       "      <td>0</td>\n",
       "    </tr>\n",
       "    <tr>\n",
       "      <th>148</th>\n",
       "      <td>45</td>\n",
       "      <td>1</td>\n",
       "      <td>2</td>\n",
       "      <td>1</td>\n",
       "      <td>1</td>\n",
       "      <td>2</td>\n",
       "      <td>1</td>\n",
       "      <td>0</td>\n",
       "      <td>1</td>\n",
       "      <td>1</td>\n",
       "      <td>...</td>\n",
       "      <td>0</td>\n",
       "      <td>0</td>\n",
       "      <td>0</td>\n",
       "      <td>0</td>\n",
       "      <td>0</td>\n",
       "      <td>0</td>\n",
       "      <td>0</td>\n",
       "      <td>0</td>\n",
       "      <td>0</td>\n",
       "      <td>0</td>\n",
       "    </tr>\n",
       "    <tr>\n",
       "      <th>86</th>\n",
       "      <td>27</td>\n",
       "      <td>2</td>\n",
       "      <td>1</td>\n",
       "      <td>1</td>\n",
       "      <td>1</td>\n",
       "      <td>3</td>\n",
       "      <td>1</td>\n",
       "      <td>0</td>\n",
       "      <td>1</td>\n",
       "      <td>1</td>\n",
       "      <td>...</td>\n",
       "      <td>0</td>\n",
       "      <td>0</td>\n",
       "      <td>0</td>\n",
       "      <td>0</td>\n",
       "      <td>0</td>\n",
       "      <td>0</td>\n",
       "      <td>0</td>\n",
       "      <td>0</td>\n",
       "      <td>0</td>\n",
       "      <td>0</td>\n",
       "    </tr>\n",
       "    <tr>\n",
       "      <th>68</th>\n",
       "      <td>33</td>\n",
       "      <td>2</td>\n",
       "      <td>5</td>\n",
       "      <td>1</td>\n",
       "      <td>1</td>\n",
       "      <td>2</td>\n",
       "      <td>1</td>\n",
       "      <td>1</td>\n",
       "      <td>1</td>\n",
       "      <td>1</td>\n",
       "      <td>...</td>\n",
       "      <td>0</td>\n",
       "      <td>0</td>\n",
       "      <td>0</td>\n",
       "      <td>0</td>\n",
       "      <td>0</td>\n",
       "      <td>0</td>\n",
       "      <td>0</td>\n",
       "      <td>0</td>\n",
       "      <td>0</td>\n",
       "      <td>0</td>\n",
       "    </tr>\n",
       "  </tbody>\n",
       "</table>\n",
       "<p>5 rows × 22 columns</p>\n",
       "</div>"
      ],
      "text/plain": [
       "     Age  Duration  Frequency  Location  Character  Intensity  Nausea  Vomit  \\\n",
       "275   22         1          2         1          1          3       1      0   \n",
       "80    21         2          1         1          1          2       1      1   \n",
       "148   45         1          2         1          1          2       1      0   \n",
       "86    27         2          1         1          1          3       1      0   \n",
       "68    33         2          5         1          1          2       1      1   \n",
       "\n",
       "     Phonophobia  Photophobia  ...  Dysphasia  Dysarthria  Vertigo  Tinnitus  \\\n",
       "275            1            1  ...          0           0        0         0   \n",
       "80             1            1  ...          0           0        0         0   \n",
       "148            1            1  ...          0           0        0         0   \n",
       "86             1            1  ...          0           0        0         0   \n",
       "68             1            1  ...          0           0        0         0   \n",
       "\n",
       "     Hypoacusis  Diplopia  Defect  Conscience  Paresthesia  DPF  \n",
       "275           0         0       0           0            0    0  \n",
       "80            0         0       0           0            0    0  \n",
       "148           0         0       0           0            0    0  \n",
       "86            0         0       0           0            0    0  \n",
       "68            0         0       0           0            0    0  \n",
       "\n",
       "[5 rows x 22 columns]"
      ]
     },
     "execution_count": 590,
     "metadata": {},
     "output_type": "execute_result"
    }
   ],
   "source": [
    "# Menampilkan Data\n",
    "X_train.head()"
   ]
  },
  {
   "cell_type": "markdown",
   "id": "c681b168",
   "metadata": {
    "id": "c681b168"
   },
   "source": [
    "# Data Normalisasi"
   ]
  },
  {
   "cell_type": "code",
   "execution_count": 591,
   "id": "e937ec6e",
   "metadata": {
    "id": "e937ec6e"
   },
   "outputs": [],
   "source": [
    "# Normalisasi menggunakan StandardScaler\n",
    "X_norm = StandardScaler().fit_transform(X)"
   ]
  },
  {
   "cell_type": "code",
   "execution_count": 592,
   "id": "7f1649fd",
   "metadata": {
    "id": "7f1649fd"
   },
   "outputs": [
    {
     "data": {
      "text/plain": [
       "array([[-0.13934515, -0.80205898,  1.57716522, ..., -0.1344911 ,\n",
       "        -0.08759357, -0.83125635],\n",
       "       [ 1.50442695,  1.78819708,  1.57716522, ..., -0.1344911 ,\n",
       "        -0.08759357, -0.83125635],\n",
       "       [ 1.75099277,  0.49306905, -0.81745172, ..., -0.1344911 ,\n",
       "        -0.08759357, -0.83125635],\n",
       "       ...,\n",
       "       [-0.30372236,  1.78819708, -0.21879749, ..., -0.1344911 ,\n",
       "        -0.08759357,  1.20299832],\n",
       "       [-0.9612312 ,  1.78819708, -0.81745172, ..., -0.1344911 ,\n",
       "        11.41636253,  1.20299832],\n",
       "       [ 0.43597509, -0.80205898, -0.81745172, ...,  7.43543639,\n",
       "        -0.08759357,  1.20299832]])"
      ]
     },
     "execution_count": 592,
     "metadata": {},
     "output_type": "execute_result"
    }
   ],
   "source": [
    "# Melihat hasil normalisasi dengan StandardScaler\n",
    "X_norm"
   ]
  },
  {
   "cell_type": "code",
   "execution_count": 593,
   "id": "bf5059ab",
   "metadata": {
    "id": "bf5059ab"
   },
   "outputs": [],
   "source": [
    "X_train_norm, X_test_norm, Y_train_norm, Y_test_norm = train_test_split(X_norm,y, test_size=0.3, random_state=2022)"
   ]
  },
  {
   "cell_type": "markdown",
   "id": "312cd27d",
   "metadata": {
    "id": "312cd27d"
   },
   "source": [
    "# Data Original PCA"
   ]
  },
  {
   "cell_type": "code",
   "execution_count": 594,
   "id": "2ab0d379",
   "metadata": {
    "id": "2ab0d379"
   },
   "outputs": [
    {
     "name": "stdout",
     "output_type": "stream",
     "text": [
      "Heads of Original_PCA:           0         1         2         3         4         5         6   \\\n",
      "0  -1.671180  2.520525  0.627314 -1.183776  1.053385  1.083079 -0.609405   \n",
      "1  18.330252  2.411185  0.719916  1.135111  0.242121  0.991005 -0.337058   \n",
      "2  21.282928 -1.607946  0.210455  0.433162  0.339424 -0.666265 -0.171315   \n",
      "3  13.331469  2.388001  0.876194  1.059712  0.633433  1.904680 -0.778415   \n",
      "4  21.298492 -2.172504  1.897530 -0.079135 -1.091071 -0.041029  0.163208   \n",
      "\n",
      "         7         8         9   ...        12        13        14        15  \\\n",
      "0 -0.300813 -0.256034  0.215931  ... -0.090385  0.095472  0.016663 -0.012410   \n",
      "1  0.904382  0.753850 -0.206315  ... -0.112005 -0.163173  0.008480 -0.032793   \n",
      "2  0.845299  0.144090  0.113246  ... -0.049241 -0.039259  0.026366  0.015375   \n",
      "3  0.063466  0.463268 -0.180627  ... -0.129244 -0.103240 -0.007063 -0.067276   \n",
      "4 -0.084870 -0.248934  0.146153  ... -0.048077 -0.017582 -0.005817  0.029994   \n",
      "\n",
      "         16        17        18        19        20        21  \n",
      "0  0.013994  0.005283 -0.011885  0.008799 -0.020340 -0.003171  \n",
      "1 -0.173075 -0.039192 -0.049170 -0.036377 -0.019782 -0.004693  \n",
      "2 -0.030434  0.000201 -0.018029 -0.006471 -0.007911 -0.011582  \n",
      "3 -0.155032 -0.041531 -0.051834 -0.034048 -0.023945  0.008122  \n",
      "4 -0.020776 -0.001768 -0.017280 -0.003488 -0.011969  0.003249  \n",
      "\n",
      "[5 rows x 22 columns]\n",
      "\n",
      " Explained Variance Ratio: [9.59527739e-01 1.87439788e-02 7.68597644e-03 3.84995559e-03\n",
      " 2.81520204e-03 2.17098312e-03 1.55901167e-03 1.31196175e-03\n",
      " 6.43904420e-04 5.09903083e-04 3.45402651e-04 1.96937318e-04\n",
      " 1.72270219e-04 1.19072268e-04 8.06353495e-05 7.56308876e-05\n",
      " 6.22251864e-05 4.38478818e-05 2.96981654e-05 2.55301134e-05\n",
      " 1.54064499e-05 1.47272132e-05]\n",
      "\n",
      " Singular Value: [241.53941379  33.75904346  21.61766414  15.29984745  13.08320133\n",
      "  11.48913848   9.73607531   8.93140591   6.25705459   5.56804914\n",
      "   4.58270682   3.46037568   3.23641603   2.69069551   2.21422616\n",
      "   2.14441501   1.94510184   1.6328021    1.34376725   1.24590696\n",
      "   0.96785551   0.94627971]\n"
     ]
    }
   ],
   "source": [
    "pca = PCA(random_state=2022)\n",
    "pca.fit(X)\n",
    "ori_pca_array = pca.transform(X)\n",
    "ori_pca = pd.DataFrame(ori_pca_array)\n",
    "print(\"Heads of Original_PCA:\",ori_pca.head())\n",
    "var_ratio = pca.explained_variance_ratio_\n",
    "print(\"\\n Explained Variance Ratio:\",var_ratio)\n",
    "sv = pca.singular_values_\n",
    "print(\"\\n Singular Value:\",sv)"
   ]
  },
  {
   "cell_type": "code",
   "execution_count": 595,
   "id": "0ac76d55",
   "metadata": {
    "id": "0ac76d55"
   },
   "outputs": [
    {
     "data": {
      "image/png": "[encoded data removed]",
      "text/plain": [
       "<Figure size 720x360 with 1 Axes>"
      ]
     },
     "metadata": {},
     "output_type": "display_data"
    },
    {
     "name": "stdout",
     "output_type": "stream",
     "text": [
      "Cumulative explained ratio: [0.95952774 0.97827172 0.98595769 0.98980765 0.99262285 0.99479384\n",
      " 0.99635285 0.99766481 0.99830871 0.99881862 0.99916402 0.99936096\n",
      " 0.99953323 0.9996523  0.99973293 0.99980856 0.99987079 0.99991464\n",
      " 0.99994434 0.99996987 0.99998527 1.        ]\n"
     ]
    }
   ],
   "source": [
    "# Visualisasi Data Original PCA\n",
    "cum_var_ratio = np.cumsum(var_ratio)\n",
    "\n",
    "plt.figure(figsize=(10, 5))\n",
    "plt.bar(range(len(var_ratio)), \n",
    "        var_ratio, \n",
    "        alpha=0.3333, \n",
    "        align='center', \n",
    "        label='individual explained variance', \n",
    "        color = 'g')\n",
    "plt.step(range(len(cum_var_ratio)),\n",
    "         cum_var_ratio, \n",
    "         where='mid',\n",
    "         label='cumulative explained variance')\n",
    "plt.ylabel('Explained variance ratio')\n",
    "plt.xlabel('Principal components')\n",
    "plt.legend(loc='best')\n",
    "plt.show()\n",
    "\n",
    "print(\"Cumulative explained ratio:\",cum_var_ratio)"
   ]
  },
  {
   "cell_type": "code",
   "execution_count": 596,
   "id": "d7fbbf9b",
   "metadata": {
    "id": "d7fbbf9b"
   },
   "outputs": [],
   "source": [
    "X_train_pca, X_test_pca, Y_train_pca, Y_test_pca = train_test_split(ori_pca,y, test_size=0.3, random_state=2022)"
   ]
  },
  {
   "cell_type": "markdown",
   "id": "fb72868b",
   "metadata": {
    "id": "fb72868b"
   },
   "source": [
    "# Data Normalisasi PCA"
   ]
  },
  {
   "cell_type": "code",
   "execution_count": 597,
   "id": "f08368ba",
   "metadata": {
    "id": "f08368ba"
   },
   "outputs": [
    {
     "name": "stdout",
     "output_type": "stream",
     "text": [
      "Heads of iris_pca:          0         1         2         3         4         5         6   \\\n",
      "0 -0.414469 -0.548357  0.475909 -0.418395  0.115352 -0.216479  1.011307   \n",
      "1  0.337055  0.727056  0.178469  1.364411  1.835782 -0.259117  1.151643   \n",
      "2 -0.106388 -0.688238  0.293944  0.558417 -0.631514  0.022780  0.717992   \n",
      "3  0.052428  1.277346  0.439471  1.024404  1.281361 -0.540878  0.276384   \n",
      "4 -0.846475  0.388848  0.797194  0.701083 -2.162484 -0.915453  0.278635   \n",
      "\n",
      "         7         8         9   ...        12        13        14        15  \\\n",
      "0  2.007309  0.473438  0.594925  ... -0.825405 -0.449514  1.138246  0.157828   \n",
      "1  1.167315 -0.230751 -0.202019  ... -0.909061  1.655684 -0.014062  1.069987   \n",
      "2 -0.441208  0.031178 -0.433482  ...  0.460205  1.809652 -1.291473  0.317780   \n",
      "3  2.334975 -0.549037  0.658895  ... -1.511398  1.216756  1.149223  0.707238   \n",
      "4 -1.276636 -1.761232 -0.371055  ...  0.407495  0.342832  0.108747  0.440390   \n",
      "\n",
      "         16        17        18        19        20        21  \n",
      "0 -0.539580 -0.816360  0.471878  0.356149  0.011928 -0.087647  \n",
      "1  0.819224  0.894113 -1.912424  0.131246 -0.354253 -0.112976  \n",
      "2  0.110292  0.373756 -0.164364  0.356691 -0.155560 -0.051818  \n",
      "3  0.844567  0.301146 -1.467404  0.006343 -0.325390 -0.122127  \n",
      "4 -0.565645 -0.222215 -0.302193  0.001286 -0.077742 -0.053183  \n",
      "\n",
      "[5 rows x 22 columns]\n",
      "\n",
      " Explained variance ratio: [0.14213805 0.10249859 0.08165377 0.07051107 0.05943161 0.0556606\n",
      " 0.05144004 0.04935647 0.04860621 0.04532996 0.04176701 0.0389669\n",
      " 0.03724418 0.03254917 0.02930351 0.02627684 0.0236909  0.02241386\n",
      " 0.01735641 0.01258529 0.00951229 0.00170729]\n",
      "\n",
      " Singular Value: [35.10060666 29.80700949 26.6040382  24.72225616 22.69698661 21.96511094\n",
      " 21.11592422 20.68385567 20.52604828 19.82221104 19.0272549  18.37838546\n",
      " 17.96754159 16.79690992 15.93746723 15.09197193 14.33013221 13.93855444\n",
      " 12.26561733 10.44458145  9.08033605  3.84692274]\n"
     ]
    }
   ],
   "source": [
    "pca = PCA(random_state=2022)\n",
    "pca.fit(X_norm)\n",
    "norm_pca_array = pca.transform(X_norm)\n",
    "norm_pca = pd.DataFrame(norm_pca_array)\n",
    "print(\"Heads of iris_pca:\",norm_pca.head())\n",
    "var_ratio = pca.explained_variance_ratio_\n",
    "print(\"\\n Explained variance ratio:\",var_ratio)\n",
    "sv = pca.singular_values_\n",
    "print(\"\\n Singular Value:\",sv)"
   ]
  },
  {
   "cell_type": "code",
   "execution_count": 599,
   "id": "6df640fa",
   "metadata": {
    "id": "6df640fa"
   },
   "outputs": [
    {
     "data": {
      "image/png": "[encoded data removed]",
      "text/plain": [
       "<Figure size 720x360 with 1 Axes>"
      ]
     },
     "metadata": {},
     "output_type": "display_data"
    },
    {
     "name": "stdout",
     "output_type": "stream",
     "text": [
      "Cumulative explained ratio: [0.14213805 0.24463664 0.32629041 0.39680148 0.45623309 0.51189369\n",
      " 0.56333373 0.6126902  0.66129641 0.70662637 0.74839338 0.78736027\n",
      " 0.82460445 0.85715362 0.88645713 0.91273397 0.93642487 0.95883872\n",
      " 0.97619513 0.98878042 0.99829271 1.        ]\n"
     ]
    }
   ],
   "source": [
    "# Visualisasi Data Normalisasi PCA\n",
    "cum_var_ratio = np.cumsum(var_ratio)\n",
    "\n",
    "plt.figure(figsize=(10, 5))\n",
    "plt.bar(range(len(var_ratio)), \n",
    "        var_ratio, \n",
    "        alpha=0.3333, \n",
    "        align='center', \n",
    "        label='individual explained variance', \n",
    "        color = 'g')\n",
    "plt.step(range(len(cum_var_ratio)),\n",
    "         cum_var_ratio, \n",
    "         where='mid',\n",
    "         label='cumulative explained variance')\n",
    "plt.ylabel('Explained variance ratio')\n",
    "plt.xlabel('Principal components')\n",
    "plt.legend(loc='best')\n",
    "plt.show()\n",
    "\n",
    "print(\"Cumulative explained ratio:\",cum_var_ratio)"
   ]
  },
  {
   "cell_type": "code",
   "execution_count": 600,
   "id": "87c4d8d4",
   "metadata": {
    "id": "87c4d8d4"
   },
   "outputs": [],
   "source": [
    "X_train_norm_pca, X_test_norm_pca, Y_train_norm_pca, Y_test_norm_pca = train_test_split(norm_pca,y, test_size=0.3, random_state=2022)"
   ]
  },
  {
   "cell_type": "markdown",
   "id": "b388ba72",
   "metadata": {
    "id": "b388ba72"
   },
   "source": [
    "# 7) Menentukan Label Data\n",
    "\n",
    "- Tidak perlu karena label data sudah tersedia pada data"
   ]
  },
  {
   "cell_type": "markdown",
   "id": "56675a79",
   "metadata": {
    "id": "56675a79"
   },
   "source": [
    "# 8) Membangun Model\n",
    "- Teknik Pemodelan yang dipakai:\n",
    "    - Menggunakan KNN\n",
    "    - Parameter yang dipakai:\n",
    "        - n_neighbors = 3\n",
    "        - metric = euclidean\n",
    "        - p = 2\n",
    "- Skenario Pengujian\n",
    "    - Menggunakan akurasi, presisi dan recall.\n",
    "    - Pengujian menggunakan Data Original.\n",
    "    - Pengujian menggunakan Data yang sudah dinormalisasi.\n",
    "    - Pengujian menggunakan Data Original yang diberikan PCA.\n",
    "    - Pengujian menggunakan Data yang sudah dinormalisasi dan diberikan PCA."
   ]
  },
  {
   "cell_type": "markdown",
   "id": "88809cd2",
   "metadata": {
    "id": "88809cd2"
   },
   "source": [
    "# K-Nearets Neighbors"
   ]
  },
  {
   "cell_type": "markdown",
   "id": "8d93191d",
   "metadata": {
    "id": "8d93191d"
   },
   "source": [
    "# Pemodelan K-Nearest Neighbor (KNN)"
   ]
  },
  {
   "cell_type": "markdown",
   "id": "16bc2b26",
   "metadata": {
    "id": "16bc2b26"
   },
   "source": [
    "# Pemodelan dengan Data Original"
   ]
  },
  {
   "cell_type": "code",
   "execution_count": 601,
   "id": "59a228ec",
   "metadata": {
    "id": "59a228ec"
   },
   "outputs": [],
   "source": [
    "ori_classifier = KNeighborsClassifier(n_neighbors=3, metric='euclidean', p=2)"
   ]
  },
  {
   "cell_type": "code",
   "execution_count": 602,
   "id": "7ba55c09",
   "metadata": {
    "id": "7ba55c09"
   },
   "outputs": [
    {
     "data": {
      "text/html": [
       "<style>#sk-container-id-61 {color: black;background-color: white;}#sk-container-id-61 pre{padding: 0;}#sk-container-id-61 div.sk-toggleable {background-color: white;}#sk-container-id-61 label.sk-toggleable__label {cursor: pointer;display: block;width: 100%;margin-bottom: 0;padding: 0.3em;box-sizing: border-box;text-align: center;}#sk-container-id-61 label.sk-toggleable__label-arrow:before {content: \"▸\";float: left;margin-right: 0.25em;color: #696969;}#sk-container-id-61 label.sk-toggleable__label-arrow:hover:before {color: black;}#sk-container-id-61 div.sk-estimator:hover label.sk-toggleable__label-arrow:before {color: black;}#sk-container-id-61 div.sk-toggleable__content {max-height: 0;max-width: 0;overflow: hidden;text-align: left;background-color: #f0f8ff;}#sk-container-id-61 div.sk-toggleable__content pre {margin: 0.2em;color: black;border-radius: 0.25em;background-color: #f0f8ff;}#sk-container-id-61 input.sk-toggleable__control:checked~div.sk-toggleable__content {max-height: 200px;max-width: 100%;overflow: auto;}#sk-container-id-61 input.sk-toggleable__control:checked~label.sk-toggleable__label-arrow:before {content: \"▾\";}#sk-container-id-61 div.sk-estimator input.sk-toggleable__control:checked~label.sk-toggleable__label {background-color: #d4ebff;}#sk-container-id-61 div.sk-label input.sk-toggleable__control:checked~label.sk-toggleable__label {background-color: #d4ebff;}#sk-container-id-61 input.sk-hidden--visually {border: 0;clip: rect(1px 1px 1px 1px);clip: rect(1px, 1px, 1px, 1px);height: 1px;margin: -1px;overflow: hidden;padding: 0;position: absolute;width: 1px;}#sk-container-id-61 div.sk-estimator {font-family: monospace;background-color: #f0f8ff;border: 1px dotted black;border-radius: 0.25em;box-sizing: border-box;margin-bottom: 0.5em;}#sk-container-id-61 div.sk-estimator:hover {background-color: #d4ebff;}#sk-container-id-61 div.sk-parallel-item::after {content: \"\";width: 100%;border-bottom: 1px solid gray;flex-grow: 1;}#sk-container-id-61 div.sk-label:hover label.sk-toggleable__label {background-color: #d4ebff;}#sk-container-id-61 div.sk-serial::before {content: \"\";position: absolute;border-left: 1px solid gray;box-sizing: border-box;top: 0;bottom: 0;left: 50%;z-index: 0;}#sk-container-id-61 div.sk-serial {display: flex;flex-direction: column;align-items: center;background-color: white;padding-right: 0.2em;padding-left: 0.2em;position: relative;}#sk-container-id-61 div.sk-item {position: relative;z-index: 1;}#sk-container-id-61 div.sk-parallel {display: flex;align-items: stretch;justify-content: center;background-color: white;position: relative;}#sk-container-id-61 div.sk-item::before, #sk-container-id-61 div.sk-parallel-item::before {content: \"\";position: absolute;border-left: 1px solid gray;box-sizing: border-box;top: 0;bottom: 0;left: 50%;z-index: -1;}#sk-container-id-61 div.sk-parallel-item {display: flex;flex-direction: column;z-index: 1;position: relative;background-color: white;}#sk-container-id-61 div.sk-parallel-item:first-child::after {align-self: flex-end;width: 50%;}#sk-container-id-61 div.sk-parallel-item:last-child::after {align-self: flex-start;width: 50%;}#sk-container-id-61 div.sk-parallel-item:only-child::after {width: 0;}#sk-container-id-61 div.sk-dashed-wrapped {border: 1px dashed gray;margin: 0 0.4em 0.5em 0.4em;box-sizing: border-box;padding-bottom: 0.4em;background-color: white;}#sk-container-id-61 div.sk-label label {font-family: monospace;font-weight: bold;display: inline-block;line-height: 1.2em;}#sk-container-id-61 div.sk-label-container {text-align: center;}#sk-container-id-61 div.sk-container {/* jupyter's `normalize.less` sets `[hidden] { display: none; }` but bootstrap.min.css set `[hidden] { display: none !important; }` so we also need the `!important` here to be able to override the default hidden behavior on the sphinx rendered scikit-learn.org. See: https://github.com/scikit-learn/scikit-learn/issues/21755 */display: inline-block !important;position: relative;}#sk-container-id-61 div.sk-text-repr-fallback {display: none;}</style><div id=\"sk-container-id-61\" class=\"sk-top-container\"><div class=\"sk-text-repr-fallback\"><pre>KNeighborsClassifier(metric=&#x27;euclidean&#x27;, n_neighbors=3)</pre><b>In a Jupyter environment, please rerun this cell to show the HTML representation or trust the notebook. <br />On GitHub, the HTML representation is unable to render, please try loading this page with nbviewer.org.</b></div><div class=\"sk-container\" hidden><div class=\"sk-item\"><div class=\"sk-estimator sk-toggleable\"><input class=\"sk-toggleable__control sk-hidden--visually\" id=\"sk-estimator-id-73\" type=\"checkbox\" checked><label for=\"sk-estimator-id-73\" class=\"sk-toggleable__label sk-toggleable__label-arrow\">KNeighborsClassifier</label><div class=\"sk-toggleable__content\"><pre>KNeighborsClassifier(metric=&#x27;euclidean&#x27;, n_neighbors=3)</pre></div></div></div></div></div>"
      ],
      "text/plain": [
       "KNeighborsClassifier(metric='euclidean', n_neighbors=3)"
      ]
     },
     "execution_count": 602,
     "metadata": {},
     "output_type": "execute_result"
    }
   ],
   "source": [
    "ori_classifier.fit(X_train,Y_train.ravel())"
   ]
  },
  {
   "cell_type": "markdown",
   "id": "33c8bba5",
   "metadata": {
    "id": "33c8bba5"
   },
   "source": [
    "# Pemodelan K-Nearest Neighbors (KNN) dengan Data Normalisasi"
   ]
  },
  {
   "cell_type": "code",
   "execution_count": 603,
   "id": "3f3a41bd",
   "metadata": {
    "id": "3f3a41bd"
   },
   "outputs": [],
   "source": [
    "norm_classifier = KNeighborsClassifier(n_neighbors=3, metric='euclidean', p=2)"
   ]
  },
  {
   "cell_type": "code",
   "execution_count": 605,
   "id": "0ea8e67e",
   "metadata": {
    "id": "0ea8e67e"
   },
   "outputs": [
    {
     "data": {
      "text/html": [
       "<style>#sk-container-id-63 {color: black;background-color: white;}#sk-container-id-63 pre{padding: 0;}#sk-container-id-63 div.sk-toggleable {background-color: white;}#sk-container-id-63 label.sk-toggleable__label {cursor: pointer;display: block;width: 100%;margin-bottom: 0;padding: 0.3em;box-sizing: border-box;text-align: center;}#sk-container-id-63 label.sk-toggleable__label-arrow:before {content: \"▸\";float: left;margin-right: 0.25em;color: #696969;}#sk-container-id-63 label.sk-toggleable__label-arrow:hover:before {color: black;}#sk-container-id-63 div.sk-estimator:hover label.sk-toggleable__label-arrow:before {color: black;}#sk-container-id-63 div.sk-toggleable__content {max-height: 0;max-width: 0;overflow: hidden;text-align: left;background-color: #f0f8ff;}#sk-container-id-63 div.sk-toggleable__content pre {margin: 0.2em;color: black;border-radius: 0.25em;background-color: #f0f8ff;}#sk-container-id-63 input.sk-toggleable__control:checked~div.sk-toggleable__content {max-height: 200px;max-width: 100%;overflow: auto;}#sk-container-id-63 input.sk-toggleable__control:checked~label.sk-toggleable__label-arrow:before {content: \"▾\";}#sk-container-id-63 div.sk-estimator input.sk-toggleable__control:checked~label.sk-toggleable__label {background-color: #d4ebff;}#sk-container-id-63 div.sk-label input.sk-toggleable__control:checked~label.sk-toggleable__label {background-color: #d4ebff;}#sk-container-id-63 input.sk-hidden--visually {border: 0;clip: rect(1px 1px 1px 1px);clip: rect(1px, 1px, 1px, 1px);height: 1px;margin: -1px;overflow: hidden;padding: 0;position: absolute;width: 1px;}#sk-container-id-63 div.sk-estimator {font-family: monospace;background-color: #f0f8ff;border: 1px dotted black;border-radius: 0.25em;box-sizing: border-box;margin-bottom: 0.5em;}#sk-container-id-63 div.sk-estimator:hover {background-color: #d4ebff;}#sk-container-id-63 div.sk-parallel-item::after {content: \"\";width: 100%;border-bottom: 1px solid gray;flex-grow: 1;}#sk-container-id-63 div.sk-label:hover label.sk-toggleable__label {background-color: #d4ebff;}#sk-container-id-63 div.sk-serial::before {content: \"\";position: absolute;border-left: 1px solid gray;box-sizing: border-box;top: 0;bottom: 0;left: 50%;z-index: 0;}#sk-container-id-63 div.sk-serial {display: flex;flex-direction: column;align-items: center;background-color: white;padding-right: 0.2em;padding-left: 0.2em;position: relative;}#sk-container-id-63 div.sk-item {position: relative;z-index: 1;}#sk-container-id-63 div.sk-parallel {display: flex;align-items: stretch;justify-content: center;background-color: white;position: relative;}#sk-container-id-63 div.sk-item::before, #sk-container-id-63 div.sk-parallel-item::before {content: \"\";position: absolute;border-left: 1px solid gray;box-sizing: border-box;top: 0;bottom: 0;left: 50%;z-index: -1;}#sk-container-id-63 div.sk-parallel-item {display: flex;flex-direction: column;z-index: 1;position: relative;background-color: white;}#sk-container-id-63 div.sk-parallel-item:first-child::after {align-self: flex-end;width: 50%;}#sk-container-id-63 div.sk-parallel-item:last-child::after {align-self: flex-start;width: 50%;}#sk-container-id-63 div.sk-parallel-item:only-child::after {width: 0;}#sk-container-id-63 div.sk-dashed-wrapped {border: 1px dashed gray;margin: 0 0.4em 0.5em 0.4em;box-sizing: border-box;padding-bottom: 0.4em;background-color: white;}#sk-container-id-63 div.sk-label label {font-family: monospace;font-weight: bold;display: inline-block;line-height: 1.2em;}#sk-container-id-63 div.sk-label-container {text-align: center;}#sk-container-id-63 div.sk-container {/* jupyter's `normalize.less` sets `[hidden] { display: none; }` but bootstrap.min.css set `[hidden] { display: none !important; }` so we also need the `!important` here to be able to override the default hidden behavior on the sphinx rendered scikit-learn.org. See: https://github.com/scikit-learn/scikit-learn/issues/21755 */display: inline-block !important;position: relative;}#sk-container-id-63 div.sk-text-repr-fallback {display: none;}</style><div id=\"sk-container-id-63\" class=\"sk-top-container\"><div class=\"sk-text-repr-fallback\"><pre>KNeighborsClassifier(metric=&#x27;euclidean&#x27;, n_neighbors=3)</pre><b>In a Jupyter environment, please rerun this cell to show the HTML representation or trust the notebook. <br />On GitHub, the HTML representation is unable to render, please try loading this page with nbviewer.org.</b></div><div class=\"sk-container\" hidden><div class=\"sk-item\"><div class=\"sk-estimator sk-toggleable\"><input class=\"sk-toggleable__control sk-hidden--visually\" id=\"sk-estimator-id-75\" type=\"checkbox\" checked><label for=\"sk-estimator-id-75\" class=\"sk-toggleable__label sk-toggleable__label-arrow\">KNeighborsClassifier</label><div class=\"sk-toggleable__content\"><pre>KNeighborsClassifier(metric=&#x27;euclidean&#x27;, n_neighbors=3)</pre></div></div></div></div></div>"
      ],
      "text/plain": [
       "KNeighborsClassifier(metric='euclidean', n_neighbors=3)"
      ]
     },
     "execution_count": 605,
     "metadata": {},
     "output_type": "execute_result"
    }
   ],
   "source": [
    "norm_classifier.fit(X_train_norm,Y_train_norm.ravel())"
   ]
  },
  {
   "cell_type": "markdown",
   "id": "980a27f0",
   "metadata": {
    "id": "980a27f0"
   },
   "source": [
    "# Pemodelan K-Nearest Neighbors (KNN) Data Original tapi diberikan PCA\n"
   ]
  },
  {
   "cell_type": "code",
   "execution_count": 606,
   "id": "8f8b4733",
   "metadata": {
    "id": "8f8b4733"
   },
   "outputs": [],
   "source": [
    "ori_pca_classifier = KNeighborsClassifier(n_neighbors=3, metric='euclidean', p=2)"
   ]
  },
  {
   "cell_type": "code",
   "execution_count": 607,
   "id": "d6adce41",
   "metadata": {
    "id": "d6adce41"
   },
   "outputs": [
    {
     "data": {
      "text/html": [
       "<style>#sk-container-id-64 {color: black;background-color: white;}#sk-container-id-64 pre{padding: 0;}#sk-container-id-64 div.sk-toggleable {background-color: white;}#sk-container-id-64 label.sk-toggleable__label {cursor: pointer;display: block;width: 100%;margin-bottom: 0;padding: 0.3em;box-sizing: border-box;text-align: center;}#sk-container-id-64 label.sk-toggleable__label-arrow:before {content: \"▸\";float: left;margin-right: 0.25em;color: #696969;}#sk-container-id-64 label.sk-toggleable__label-arrow:hover:before {color: black;}#sk-container-id-64 div.sk-estimator:hover label.sk-toggleable__label-arrow:before {color: black;}#sk-container-id-64 div.sk-toggleable__content {max-height: 0;max-width: 0;overflow: hidden;text-align: left;background-color: #f0f8ff;}#sk-container-id-64 div.sk-toggleable__content pre {margin: 0.2em;color: black;border-radius: 0.25em;background-color: #f0f8ff;}#sk-container-id-64 input.sk-toggleable__control:checked~div.sk-toggleable__content {max-height: 200px;max-width: 100%;overflow: auto;}#sk-container-id-64 input.sk-toggleable__control:checked~label.sk-toggleable__label-arrow:before {content: \"▾\";}#sk-container-id-64 div.sk-estimator input.sk-toggleable__control:checked~label.sk-toggleable__label {background-color: #d4ebff;}#sk-container-id-64 div.sk-label input.sk-toggleable__control:checked~label.sk-toggleable__label {background-color: #d4ebff;}#sk-container-id-64 input.sk-hidden--visually {border: 0;clip: rect(1px 1px 1px 1px);clip: rect(1px, 1px, 1px, 1px);height: 1px;margin: -1px;overflow: hidden;padding: 0;position: absolute;width: 1px;}#sk-container-id-64 div.sk-estimator {font-family: monospace;background-color: #f0f8ff;border: 1px dotted black;border-radius: 0.25em;box-sizing: border-box;margin-bottom: 0.5em;}#sk-container-id-64 div.sk-estimator:hover {background-color: #d4ebff;}#sk-container-id-64 div.sk-parallel-item::after {content: \"\";width: 100%;border-bottom: 1px solid gray;flex-grow: 1;}#sk-container-id-64 div.sk-label:hover label.sk-toggleable__label {background-color: #d4ebff;}#sk-container-id-64 div.sk-serial::before {content: \"\";position: absolute;border-left: 1px solid gray;box-sizing: border-box;top: 0;bottom: 0;left: 50%;z-index: 0;}#sk-container-id-64 div.sk-serial {display: flex;flex-direction: column;align-items: center;background-color: white;padding-right: 0.2em;padding-left: 0.2em;position: relative;}#sk-container-id-64 div.sk-item {position: relative;z-index: 1;}#sk-container-id-64 div.sk-parallel {display: flex;align-items: stretch;justify-content: center;background-color: white;position: relative;}#sk-container-id-64 div.sk-item::before, #sk-container-id-64 div.sk-parallel-item::before {content: \"\";position: absolute;border-left: 1px solid gray;box-sizing: border-box;top: 0;bottom: 0;left: 50%;z-index: -1;}#sk-container-id-64 div.sk-parallel-item {display: flex;flex-direction: column;z-index: 1;position: relative;background-color: white;}#sk-container-id-64 div.sk-parallel-item:first-child::after {align-self: flex-end;width: 50%;}#sk-container-id-64 div.sk-parallel-item:last-child::after {align-self: flex-start;width: 50%;}#sk-container-id-64 div.sk-parallel-item:only-child::after {width: 0;}#sk-container-id-64 div.sk-dashed-wrapped {border: 1px dashed gray;margin: 0 0.4em 0.5em 0.4em;box-sizing: border-box;padding-bottom: 0.4em;background-color: white;}#sk-container-id-64 div.sk-label label {font-family: monospace;font-weight: bold;display: inline-block;line-height: 1.2em;}#sk-container-id-64 div.sk-label-container {text-align: center;}#sk-container-id-64 div.sk-container {/* jupyter's `normalize.less` sets `[hidden] { display: none; }` but bootstrap.min.css set `[hidden] { display: none !important; }` so we also need the `!important` here to be able to override the default hidden behavior on the sphinx rendered scikit-learn.org. See: https://github.com/scikit-learn/scikit-learn/issues/21755 */display: inline-block !important;position: relative;}#sk-container-id-64 div.sk-text-repr-fallback {display: none;}</style><div id=\"sk-container-id-64\" class=\"sk-top-container\"><div class=\"sk-text-repr-fallback\"><pre>KNeighborsClassifier(metric=&#x27;euclidean&#x27;, n_neighbors=3)</pre><b>In a Jupyter environment, please rerun this cell to show the HTML representation or trust the notebook. <br />On GitHub, the HTML representation is unable to render, please try loading this page with nbviewer.org.</b></div><div class=\"sk-container\" hidden><div class=\"sk-item\"><div class=\"sk-estimator sk-toggleable\"><input class=\"sk-toggleable__control sk-hidden--visually\" id=\"sk-estimator-id-76\" type=\"checkbox\" checked><label for=\"sk-estimator-id-76\" class=\"sk-toggleable__label sk-toggleable__label-arrow\">KNeighborsClassifier</label><div class=\"sk-toggleable__content\"><pre>KNeighborsClassifier(metric=&#x27;euclidean&#x27;, n_neighbors=3)</pre></div></div></div></div></div>"
      ],
      "text/plain": [
       "KNeighborsClassifier(metric='euclidean', n_neighbors=3)"
      ]
     },
     "execution_count": 607,
     "metadata": {},
     "output_type": "execute_result"
    }
   ],
   "source": [
    "ori_pca_classifier.fit(X_train_pca,Y_train_pca.ravel())"
   ]
  },
  {
   "cell_type": "markdown",
   "id": "f3da197b",
   "metadata": {
    "id": "f3da197b"
   },
   "source": [
    "# Pemodelan K-Nearest Neighbors (KNN) dengan Data Normalisasi tapi diberikan PCA"
   ]
  },
  {
   "cell_type": "code",
   "execution_count": 608,
   "id": "f81c9059",
   "metadata": {
    "id": "f81c9059"
   },
   "outputs": [],
   "source": [
    "norm_pca_classifier = KNeighborsClassifier(n_neighbors=3, metric='euclidean', p=2)"
   ]
  },
  {
   "cell_type": "code",
   "execution_count": 609,
   "id": "62b762e3",
   "metadata": {
    "id": "62b762e3"
   },
   "outputs": [
    {
     "data": {
      "text/html": [
       "<style>#sk-container-id-65 {color: black;background-color: white;}#sk-container-id-65 pre{padding: 0;}#sk-container-id-65 div.sk-toggleable {background-color: white;}#sk-container-id-65 label.sk-toggleable__label {cursor: pointer;display: block;width: 100%;margin-bottom: 0;padding: 0.3em;box-sizing: border-box;text-align: center;}#sk-container-id-65 label.sk-toggleable__label-arrow:before {content: \"▸\";float: left;margin-right: 0.25em;color: #696969;}#sk-container-id-65 label.sk-toggleable__label-arrow:hover:before {color: black;}#sk-container-id-65 div.sk-estimator:hover label.sk-toggleable__label-arrow:before {color: black;}#sk-container-id-65 div.sk-toggleable__content {max-height: 0;max-width: 0;overflow: hidden;text-align: left;background-color: #f0f8ff;}#sk-container-id-65 div.sk-toggleable__content pre {margin: 0.2em;color: black;border-radius: 0.25em;background-color: #f0f8ff;}#sk-container-id-65 input.sk-toggleable__control:checked~div.sk-toggleable__content {max-height: 200px;max-width: 100%;overflow: auto;}#sk-container-id-65 input.sk-toggleable__control:checked~label.sk-toggleable__label-arrow:before {content: \"▾\";}#sk-container-id-65 div.sk-estimator input.sk-toggleable__control:checked~label.sk-toggleable__label {background-color: #d4ebff;}#sk-container-id-65 div.sk-label input.sk-toggleable__control:checked~label.sk-toggleable__label {background-color: #d4ebff;}#sk-container-id-65 input.sk-hidden--visually {border: 0;clip: rect(1px 1px 1px 1px);clip: rect(1px, 1px, 1px, 1px);height: 1px;margin: -1px;overflow: hidden;padding: 0;position: absolute;width: 1px;}#sk-container-id-65 div.sk-estimator {font-family: monospace;background-color: #f0f8ff;border: 1px dotted black;border-radius: 0.25em;box-sizing: border-box;margin-bottom: 0.5em;}#sk-container-id-65 div.sk-estimator:hover {background-color: #d4ebff;}#sk-container-id-65 div.sk-parallel-item::after {content: \"\";width: 100%;border-bottom: 1px solid gray;flex-grow: 1;}#sk-container-id-65 div.sk-label:hover label.sk-toggleable__label {background-color: #d4ebff;}#sk-container-id-65 div.sk-serial::before {content: \"\";position: absolute;border-left: 1px solid gray;box-sizing: border-box;top: 0;bottom: 0;left: 50%;z-index: 0;}#sk-container-id-65 div.sk-serial {display: flex;flex-direction: column;align-items: center;background-color: white;padding-right: 0.2em;padding-left: 0.2em;position: relative;}#sk-container-id-65 div.sk-item {position: relative;z-index: 1;}#sk-container-id-65 div.sk-parallel {display: flex;align-items: stretch;justify-content: center;background-color: white;position: relative;}#sk-container-id-65 div.sk-item::before, #sk-container-id-65 div.sk-parallel-item::before {content: \"\";position: absolute;border-left: 1px solid gray;box-sizing: border-box;top: 0;bottom: 0;left: 50%;z-index: -1;}#sk-container-id-65 div.sk-parallel-item {display: flex;flex-direction: column;z-index: 1;position: relative;background-color: white;}#sk-container-id-65 div.sk-parallel-item:first-child::after {align-self: flex-end;width: 50%;}#sk-container-id-65 div.sk-parallel-item:last-child::after {align-self: flex-start;width: 50%;}#sk-container-id-65 div.sk-parallel-item:only-child::after {width: 0;}#sk-container-id-65 div.sk-dashed-wrapped {border: 1px dashed gray;margin: 0 0.4em 0.5em 0.4em;box-sizing: border-box;padding-bottom: 0.4em;background-color: white;}#sk-container-id-65 div.sk-label label {font-family: monospace;font-weight: bold;display: inline-block;line-height: 1.2em;}#sk-container-id-65 div.sk-label-container {text-align: center;}#sk-container-id-65 div.sk-container {/* jupyter's `normalize.less` sets `[hidden] { display: none; }` but bootstrap.min.css set `[hidden] { display: none !important; }` so we also need the `!important` here to be able to override the default hidden behavior on the sphinx rendered scikit-learn.org. See: https://github.com/scikit-learn/scikit-learn/issues/21755 */display: inline-block !important;position: relative;}#sk-container-id-65 div.sk-text-repr-fallback {display: none;}</style><div id=\"sk-container-id-65\" class=\"sk-top-container\"><div class=\"sk-text-repr-fallback\"><pre>KNeighborsClassifier(metric=&#x27;euclidean&#x27;, n_neighbors=3)</pre><b>In a Jupyter environment, please rerun this cell to show the HTML representation or trust the notebook. <br />On GitHub, the HTML representation is unable to render, please try loading this page with nbviewer.org.</b></div><div class=\"sk-container\" hidden><div class=\"sk-item\"><div class=\"sk-estimator sk-toggleable\"><input class=\"sk-toggleable__control sk-hidden--visually\" id=\"sk-estimator-id-77\" type=\"checkbox\" checked><label for=\"sk-estimator-id-77\" class=\"sk-toggleable__label sk-toggleable__label-arrow\">KNeighborsClassifier</label><div class=\"sk-toggleable__content\"><pre>KNeighborsClassifier(metric=&#x27;euclidean&#x27;, n_neighbors=3)</pre></div></div></div></div></div>"
      ],
      "text/plain": [
       "KNeighborsClassifier(metric='euclidean', n_neighbors=3)"
      ]
     },
     "execution_count": 609,
     "metadata": {},
     "output_type": "execute_result"
    }
   ],
   "source": [
    "norm_pca_classifier.fit(X_train_norm_pca,Y_train_norm_pca.ravel())"
   ]
  },
  {
   "cell_type": "markdown",
   "id": "27f8dd86",
   "metadata": {
    "id": "27f8dd86"
   },
   "source": [
    "# 9) Mengevaluasi Hasil Pemodelan"
   ]
  },
  {
   "cell_type": "markdown",
   "id": "6ba19702",
   "metadata": {
    "id": "6ba19702"
   },
   "source": [
    "# Evaluasi Dengan Data Original"
   ]
  },
  {
   "cell_type": "code",
   "execution_count": 610,
   "id": "f0c13645",
   "metadata": {
    "id": "f0c13645"
   },
   "outputs": [
    {
     "name": "stdout",
     "output_type": "stream",
     "text": [
      "Akurasi pada training set:  0.8218181818181818\n",
      "Precision pada training set:  0.8218181818181818\n",
      "Recall pada training set:  0.8218181818181818\n",
      "Akurasi pada test set:  0.7478991596638656\n",
      "Precision pada test set:  0.7478991596638656\n",
      "Recall pada test set:  0.7478991596638656\n"
     ]
    }
   ],
   "source": [
    "ori_y_pred_train = ori_classifier.predict(X_train)\n",
    "\n",
    "ori_accuracy_train = accuracy_score(Y_train,ori_y_pred_train)\n",
    "print('Akurasi pada training set: ', ori_accuracy_train)\n",
    "\n",
    "ori_precision_train = precision_score(Y_train,ori_y_pred_train, average='micro')\n",
    "print('Precision pada training set: ', ori_precision_train)\n",
    "\n",
    "ori_recall_train = recall_score(Y_train,ori_y_pred_train, average='micro')\n",
    "print('Recall pada training set: ', ori_recall_train)\n",
    "\n",
    "ori_y_pred_test = ori_classifier.predict(X_test)\n",
    "\n",
    "ori_accuracy_test = accuracy_score(Y_test,ori_y_pred_test)\n",
    "print('Akurasi pada test set: ', ori_accuracy_test)\n",
    "\n",
    "ori_precision_test = precision_score(Y_test,ori_y_pred_test, average='micro')\n",
    "print('Precision pada test set: ', ori_precision_test)\n",
    "\n",
    "ori_recall_test = recall_score(Y_test,ori_y_pred_test, average='micro')\n",
    "print('Recall pada test set: ', ori_recall_test)"
   ]
  },
  {
   "cell_type": "code",
   "execution_count": 611,
   "id": "2df8b45b",
   "metadata": {
    "id": "2df8b45b"
   },
   "outputs": [
    {
     "data": {
      "image/png": "[encoded data removed]",
      "text/plain": [
       "<Figure size 432x288 with 2 Axes>"
      ]
     },
     "metadata": {},
     "output_type": "display_data"
    }
   ],
   "source": [
    "# Visualisasi Confusion Matrix dengan Seaborn\n",
    "sns.heatmap(confusion_matrix(Y_test,ori_y_pred_test),annot=True,cmap='viridis', fmt='.0f')\n",
    "plt.xlabel('Predicted Values', fontdict={'size':14}, labelpad=10)\n",
    "plt.ylabel('Actual Values', fontdict={'size':14}, labelpad=10)\n",
    "plt.title('Confusion Matrix pada bagian testing untuk data asli')\n",
    "plt.show()"
   ]
  },
  {
   "cell_type": "markdown",
   "id": "ec099e82",
   "metadata": {
    "id": "ec099e82"
   },
   "source": [
    "# Evaluasi dengan Data Normalisasi"
   ]
  },
  {
   "cell_type": "code",
   "execution_count": 612,
   "id": "da9c3297",
   "metadata": {
    "id": "da9c3297"
   },
   "outputs": [
    {
     "name": "stdout",
     "output_type": "stream",
     "text": [
      "Akurasi pada training set:  0.9272727272727272\n",
      "Precision pada training set:  0.9272727272727272\n",
      "Recall pada training set:  0.9272727272727272\n",
      "Akurasi pada test set:  0.8739495798319328\n",
      "Precision pada test set:  0.8739495798319328\n",
      "Recall pada test set:  0.8739495798319328\n"
     ]
    }
   ],
   "source": [
    "norm_y_pred_train = norm_classifier.predict(X_train_norm)\n",
    "\n",
    "norm_accuracy_train = accuracy_score(Y_train_norm,norm_y_pred_train)\n",
    "print('Akurasi pada training set: ', norm_accuracy_train)\n",
    "\n",
    "norm_precision_train = precision_score(Y_train_norm,norm_y_pred_train, average='micro')\n",
    "print('Precision pada training set: ', norm_precision_train)\n",
    "\n",
    "norm_recall_train = recall_score(Y_train_norm,norm_y_pred_train, average='micro')\n",
    "print('Recall pada training set: ', norm_recall_train)\n",
    "\n",
    "norm_y_pred_test = norm_classifier.predict(X_test_norm)\n",
    "\n",
    "norm_accuracy_test = accuracy_score(Y_test_norm,norm_y_pred_test)\n",
    "print('Akurasi pada test set: ', norm_accuracy_test)\n",
    "\n",
    "norm_precision_test = precision_score(Y_test_norm,norm_y_pred_test, average='micro')\n",
    "print('Precision pada test set: ', norm_precision_test)\n",
    "\n",
    "norm_recall_test = recall_score(Y_test_norm,norm_y_pred_test, average='micro')\n",
    "print('Recall pada test set: ', norm_recall_test)"
   ]
  },
  {
   "cell_type": "code",
   "execution_count": 613,
   "id": "8899ae4c",
   "metadata": {
    "id": "8899ae4c"
   },
   "outputs": [
    {
     "data": {
      "image/png": "[encoded data removed]",
      "text/plain": [
       "<Figure size 432x288 with 2 Axes>"
      ]
     },
     "metadata": {},
     "output_type": "display_data"
    }
   ],
   "source": [
    "# Visualisasi Confusion Matrix dengan Seaborn\n",
    "sns.heatmap(confusion_matrix(Y_test_norm,norm_y_pred_test),annot=True,cmap='viridis', fmt='.0f')\n",
    "plt.xlabel('Predicted Values', fontdict={'size':14}, labelpad=10)\n",
    "plt.ylabel('Actual Values', fontdict={'size':14}, labelpad=10)\n",
    "plt.title('Confusion Matrix pada bagian testing untuk data normalisasi')\n",
    "plt.show()"
   ]
  },
  {
   "cell_type": "markdown",
   "id": "ea8a2b04",
   "metadata": {
    "id": "ea8a2b04"
   },
   "source": [
    "# Evaluasi PCA dengan Data Original"
   ]
  },
  {
   "cell_type": "code",
   "execution_count": 614,
   "id": "d4e5598c",
   "metadata": {
    "id": "d4e5598c"
   },
   "outputs": [
    {
     "name": "stdout",
     "output_type": "stream",
     "text": [
      "Akurasi pada training set:  0.8181818181818182\n",
      "Precision pada training set:  0.8181818181818182\n",
      "Recall pada training set:  0.8181818181818182\n",
      "Akurasi pada test set:  0.7226890756302521\n",
      "Precision pada test set:  0.7226890756302521\n",
      "Recall pada test set:  0.7226890756302521\n"
     ]
    }
   ],
   "source": [
    "ori_pca_y_pred_train = ori_pca_classifier.predict(X_train_pca)\n",
    "\n",
    "ori_pca_accuracy_train = accuracy_score(Y_train_pca,ori_pca_y_pred_train)\n",
    "print('Akurasi pada training set: ', ori_pca_accuracy_train)\n",
    "\n",
    "ori_pca_precision_train = precision_score(Y_train_pca,ori_pca_y_pred_train, average='micro')\n",
    "print('Precision pada training set: ', ori_pca_precision_train)\n",
    "\n",
    "ori_pca_recall_train = recall_score(Y_train_pca,ori_pca_y_pred_train, average='micro')\n",
    "print('Recall pada training set: ', ori_pca_recall_train)\n",
    "\n",
    "ori_pca_y_pred_test = ori_pca_classifier.predict(X_test_pca)\n",
    "\n",
    "ori_pca_accuracy_test = accuracy_score(Y_test_pca,ori_pca_y_pred_test)\n",
    "print('Akurasi pada test set: ', ori_pca_accuracy_test)\n",
    "\n",
    "ori_pca_precision_test = precision_score(Y_test_pca,ori_pca_y_pred_test, average='micro')\n",
    "print('Precision pada test set: ', ori_pca_precision_test)\n",
    "\n",
    "ori_pca_recall_test = recall_score(Y_test_pca,ori_pca_y_pred_test, average='micro')\n",
    "print('Recall pada test set: ', ori_pca_recall_test)"
   ]
  },
  {
   "cell_type": "code",
   "execution_count": 616,
   "id": "fd5496b4",
   "metadata": {
    "id": "fd5496b4"
   },
   "outputs": [
    {
     "data": {
      "image/png": "[encoded data removed]",
      "text/plain": [
       "<Figure size 432x288 with 2 Axes>"
      ]
     },
     "metadata": {},
     "output_type": "display_data"
    }
   ],
   "source": [
    "# Visualisasi Confusion Matrix dengan Seaborn\n",
    "sns.heatmap(confusion_matrix(Y_test_pca,ori_pca_y_pred_test),annot=True,cmap='viridis', fmt='.0f')\n",
    "plt.xlabel('Predicted Values', fontdict={'size':14}, labelpad=10)\n",
    "plt.ylabel('Actual Values', fontdict={'size':14}, labelpad=10)\n",
    "plt.title('Confusion Matrix pada bagian testing untuk data PCA')\n",
    "plt.show()"
   ]
  },
  {
   "cell_type": "markdown",
   "id": "c88a41a2",
   "metadata": {
    "id": "c88a41a2"
   },
   "source": [
    "# Evaluasi Data Normalisasi dengan PCA"
   ]
  },
  {
   "cell_type": "code",
   "execution_count": 617,
   "id": "c1f33d4e",
   "metadata": {
    "id": "c1f33d4e"
   },
   "outputs": [
    {
     "name": "stdout",
     "output_type": "stream",
     "text": [
      "Akurasi pada training set:  0.9236363636363636\n",
      "Precision pada training set:  0.9236363636363636\n",
      "Recall pada training set:  0.9236363636363636\n",
      "Akurasi pada test set:  0.8739495798319328\n",
      "Precision pada test set:  0.8739495798319328\n",
      "Recall pada test set:  0.8739495798319328\n"
     ]
    }
   ],
   "source": [
    "norm_pca_y_pred_train = norm_pca_classifier.predict(X_train_norm_pca)\n",
    "\n",
    "norm_pca_accuracy_train = accuracy_score(Y_train_norm_pca,norm_pca_y_pred_train)\n",
    "print('Akurasi pada training set: ', norm_pca_accuracy_train)\n",
    "\n",
    "norm_pca_precision_train = precision_score(Y_train_norm_pca,norm_pca_y_pred_train, average='micro')\n",
    "print('Precision pada training set: ', norm_pca_precision_train)\n",
    "\n",
    "norm_pca_recall_train = recall_score(Y_train_norm_pca,norm_pca_y_pred_train, average='micro')\n",
    "print('Recall pada training set: ', norm_pca_recall_train)\n",
    "\n",
    "norm_pca_y_pred_test = norm_pca_classifier.predict(X_test_norm_pca)\n",
    "\n",
    "norm_pca_accuracy_test = accuracy_score(Y_test_norm_pca,norm_pca_y_pred_test)\n",
    "print('Akurasi pada test set: ', norm_pca_accuracy_test)\n",
    "\n",
    "norm_pca_precision_test = precision_score(Y_test_norm_pca,norm_pca_y_pred_test, average='micro')\n",
    "print('Precision pada test set: ', norm_pca_precision_test)\n",
    "\n",
    "norm_pca_recall_test = recall_score(Y_test_norm_pca,norm_pca_y_pred_test, average='micro')\n",
    "print('Recall pada test set: ', norm_pca_recall_test)"
   ]
  },
  {
   "cell_type": "code",
   "execution_count": 619,
   "id": "d263b20a-785e-4229-84af-89e59113eb30",
   "metadata": {},
   "outputs": [
    {
     "data": {
      "image/png": "[encoded data removed]",
      "text/plain": [
       "<Figure size 432x288 with 2 Axes>"
      ]
     },
     "metadata": {},
     "output_type": "display_data"
    }
   ],
   "source": [
    "# Visualisasi Confusion Matrix dengan Seaborn\n",
    "sns.heatmap(confusion_matrix(Y_test_norm_pca,norm_pca_y_pred_test),annot=True,cmap='viridis', fmt='.0f')\n",
    "plt.xlabel('Predicted Values', fontdict={'size':14}, labelpad=10)\n",
    "plt.ylabel('Actual Values', fontdict={'size':14}, labelpad=10)\n",
    "plt.title('Confusion Matrix pada bagian testing untuk data PCA')\n",
    "plt.show()"
   ]
  },
  {
   "cell_type": "markdown",
   "id": "45133bc1",
   "metadata": {
    "id": "45133bc1"
   },
   "source": [
    "# 11) Melakukan Proses Review Pemodelan"
   ]
  },
  {
   "cell_type": "code",
   "execution_count": 620,
   "id": "b85b35dd",
   "metadata": {
    "id": "b85b35dd"
   },
   "outputs": [],
   "source": [
    "models = [\n",
    "          ('KNN Data Original', ori_accuracy_train, ori_accuracy_test),\n",
    "          ('KNN Data Normalisasi', norm_accuracy_train, norm_accuracy_test),\n",
    "          ('KNN PCA Data Original', ori_pca_accuracy_train, ori_pca_accuracy_test),    \n",
    "          ('KNN PCA Data Normalisasi', norm_pca_accuracy_train, norm_pca_accuracy_test),      \n",
    "         ]"
   ]
  },
  {
   "cell_type": "code",
   "execution_count": 621,
   "id": "f27df44e",
   "metadata": {
    "id": "f27df44e"
   },
   "outputs": [
    {
     "data": {
      "text/html": [
       "<div>\n",
       "<style scoped>\n",
       "    .dataframe tbody tr th:only-of-type {\n",
       "        vertical-align: middle;\n",
       "    }\n",
       "\n",
       "    .dataframe tbody tr th {\n",
       "        vertical-align: top;\n",
       "    }\n",
       "\n",
       "    .dataframe thead th {\n",
       "        text-align: right;\n",
       "    }\n",
       "</style>\n",
       "<table border=\"1\" class=\"dataframe\">\n",
       "  <thead>\n",
       "    <tr style=\"text-align: right;\">\n",
       "      <th></th>\n",
       "      <th>Model</th>\n",
       "      <th>Training Accuracy</th>\n",
       "      <th>Test Accuracy</th>\n",
       "    </tr>\n",
       "  </thead>\n",
       "  <tbody>\n",
       "    <tr>\n",
       "      <th>0</th>\n",
       "      <td>KNN Data Original</td>\n",
       "      <td>0.821818</td>\n",
       "      <td>0.747899</td>\n",
       "    </tr>\n",
       "    <tr>\n",
       "      <th>1</th>\n",
       "      <td>KNN Data Normalisasi</td>\n",
       "      <td>0.927273</td>\n",
       "      <td>0.873950</td>\n",
       "    </tr>\n",
       "    <tr>\n",
       "      <th>2</th>\n",
       "      <td>KNN PCA Data Original</td>\n",
       "      <td>0.818182</td>\n",
       "      <td>0.722689</td>\n",
       "    </tr>\n",
       "    <tr>\n",
       "      <th>3</th>\n",
       "      <td>KNN PCA Data Normalisasi</td>\n",
       "      <td>0.923636</td>\n",
       "      <td>0.873950</td>\n",
       "    </tr>\n",
       "  </tbody>\n",
       "</table>\n",
       "</div>"
      ],
      "text/plain": [
       "                      Model  Training Accuracy  Test Accuracy\n",
       "0         KNN Data Original           0.821818       0.747899\n",
       "1      KNN Data Normalisasi           0.927273       0.873950\n",
       "2     KNN PCA Data Original           0.818182       0.722689\n",
       "3  KNN PCA Data Normalisasi           0.923636       0.873950"
      ]
     },
     "execution_count": 621,
     "metadata": {},
     "output_type": "execute_result"
    }
   ],
   "source": [
    "# Melakukan perbandingan hasil training akurasi dan test akurasi dengan 4 model\n",
    "predict = pd.DataFrame(data = models, columns=['Model', 'Training Accuracy', 'Test Accuracy'])\n",
    "predict"
   ]
  },
  {
   "cell_type": "code",
   "execution_count": 622,
   "id": "5c621efd",
   "metadata": {
    "id": "5c621efd"
   },
   "outputs": [],
   "source": [
    "models_comparison = [\n",
    "                        ('KNN Data Original', ori_accuracy_test, ori_recall_test, ori_precision_test), \n",
    "                        ('KNN Data Normalisasi', norm_accuracy_test, norm_recall_test, norm_precision_test),\n",
    "                        ('KNN PCA Data Original', ori_pca_accuracy_test, ori_pca_recall_test, ori_pca_precision_test),\n",
    "                        ('KNN PCA Data Normalisasi', norm_pca_accuracy_test, norm_pca_recall_test, norm_pca_precision_test),                  \n",
    "                    ]"
   ]
  },
  {
   "cell_type": "code",
   "execution_count": 623,
   "id": "66515194",
   "metadata": {
    "id": "66515194"
   },
   "outputs": [
    {
     "data": {
      "text/html": [
       "<div>\n",
       "<style scoped>\n",
       "    .dataframe tbody tr th:only-of-type {\n",
       "        vertical-align: middle;\n",
       "    }\n",
       "\n",
       "    .dataframe tbody tr th {\n",
       "        vertical-align: top;\n",
       "    }\n",
       "\n",
       "    .dataframe thead th {\n",
       "        text-align: right;\n",
       "    }\n",
       "</style>\n",
       "<table border=\"1\" class=\"dataframe\">\n",
       "  <thead>\n",
       "    <tr style=\"text-align: right;\">\n",
       "      <th></th>\n",
       "      <th>Model</th>\n",
       "      <th>Accuracy</th>\n",
       "      <th>Recall</th>\n",
       "      <th>Precision</th>\n",
       "    </tr>\n",
       "  </thead>\n",
       "  <tbody>\n",
       "    <tr>\n",
       "      <th>0</th>\n",
       "      <td>KNN Data Original</td>\n",
       "      <td>0.747899</td>\n",
       "      <td>0.747899</td>\n",
       "      <td>0.747899</td>\n",
       "    </tr>\n",
       "    <tr>\n",
       "      <th>1</th>\n",
       "      <td>KNN Data Normalisasi</td>\n",
       "      <td>0.873950</td>\n",
       "      <td>0.873950</td>\n",
       "      <td>0.873950</td>\n",
       "    </tr>\n",
       "    <tr>\n",
       "      <th>2</th>\n",
       "      <td>KNN PCA Data Original</td>\n",
       "      <td>0.722689</td>\n",
       "      <td>0.722689</td>\n",
       "      <td>0.722689</td>\n",
       "    </tr>\n",
       "    <tr>\n",
       "      <th>3</th>\n",
       "      <td>KNN PCA Data Normalisasi</td>\n",
       "      <td>0.873950</td>\n",
       "      <td>0.873950</td>\n",
       "      <td>0.873950</td>\n",
       "    </tr>\n",
       "  </tbody>\n",
       "</table>\n",
       "</div>"
      ],
      "text/plain": [
       "                      Model  Accuracy    Recall  Precision\n",
       "0         KNN Data Original  0.747899  0.747899   0.747899\n",
       "1      KNN Data Normalisasi  0.873950  0.873950   0.873950\n",
       "2     KNN PCA Data Original  0.722689  0.722689   0.722689\n",
       "3  KNN PCA Data Normalisasi  0.873950  0.873950   0.873950"
      ]
     },
     "execution_count": 623,
     "metadata": {},
     "output_type": "execute_result"
    }
   ],
   "source": [
    "# Melakukan perbandingan hasil Akurasi, Presisi dan Recall pada data Testing dengan 4 model\n",
    "comparison = pd.DataFrame(data = models_comparison, columns=['Model', 'Accuracy', 'Recall', 'Precision'])\n",
    "comparison"
   ]
  },
  {
   "cell_type": "code",
   "execution_count": 624,
   "id": "87a70623",
   "metadata": {
    "id": "87a70623"
   },
   "outputs": [
    {
     "data": {
      "image/png": "[encoded data removed]",
      "text/plain": [
       "<Figure size 1008x720 with 2 Axes>"
      ]
     },
     "metadata": {},
     "output_type": "display_data"
    }
   ],
   "source": [
    "# Visualisasi Perbandingan 4 model dengan Seaborn\n",
    "\n",
    "f, axes = plt.subplots(2,1, figsize=(14,10))\n",
    "\n",
    "predict.sort_values(by=['Training Accuracy'], ascending=False, inplace=True)\n",
    "\n",
    "sns.barplot(x='Training Accuracy', y='Model', data = predict, palette='Blues_d', ax = axes[0])\n",
    "#axes[0].set(xlabel='Region', ylabel='Charges')\n",
    "axes[0].set_xlabel('Training Accuracy', size=16)\n",
    "axes[0].set_ylabel('Model')\n",
    "axes[0].set_xlim(0,1.0)\n",
    "axes[0].set_xticks(np.arange(0, 1.1, 0.1))\n",
    "\n",
    "predict.sort_values(by=['Test Accuracy'], ascending=False, inplace=True)\n",
    "\n",
    "sns.barplot(x='Test Accuracy', y='Model', data = predict, palette='Greens_d', ax = axes[1])\n",
    "#axes[0].set(xlabel='Region', ylabel='Charges')\n",
    "axes[1].set_xlabel('Test Accuracy', size=16)\n",
    "axes[1].set_ylabel('Model')\n",
    "axes[1].set_xlim(0,1.0)\n",
    "axes[1].set_xticks(np.arange(0, 1.1, 0.1))\n",
    "\n",
    "plt.show()"
   ]
  },
  {
   "cell_type": "markdown",
   "id": "c16ec8ba",
   "metadata": {
    "id": "c16ec8ba"
   },
   "source": [
    "# Kesimpulan :\n",
    "- Model terbaik dari Dataset Data for Migraine Classification dengan menggunakan algoritma KNN adalah data KNN Data Normalisasi dengan nilai akurasi tertinggi pada Data Training sebesar 92.72% dan akurasi tertinggi pada Data Testing sebesar 87.39% sama besarnya dengan KNN PCA Data Normalisasi."
   ]
  },
  {
   "cell_type": "code",
   "execution_count": null,
   "id": "bf7fe9d5-025d-4c96-b210-e54d84b6c363",
   "metadata": {},
   "outputs": [],
   "source": []
  }
 ],
 "metadata": {
  "colab": {
   "name": "Lung Cancer Prediction.ipynb",
   "provenance": []
  },
  "kernelspec": {
   "display_name": "Python 3 (ipykernel)",
   "language": "python",
   "name": "python3"
  },
  "language_info": {
   "codemirror_mode": {
    "name": "ipython",
    "version": 3
   },
   "file_extension": ".py",
   "mimetype": "text/x-python",
   "name": "python",
   "nbconvert_exporter": "python",
   "pygments_lexer": "ipython3",
   "version": "3.10.4"
  }
 },
 "nbformat": 4,
 "nbformat_minor": 5
}
